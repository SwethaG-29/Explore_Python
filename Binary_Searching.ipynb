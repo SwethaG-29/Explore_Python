{
 "cells": [
  {
   "cell_type": "code",
   "execution_count": null,
   "id": "8ed24be4",
   "metadata": {},
   "outputs": [],
   "source": [
    "import ast\n",
    "import pandas as pd\n",
    "\n",
    "data = ast.literal_eval(input())\n",
    "k = int(input())\n",
    "\n",
    "index =0\n",
    "for i in range(0,len(data)):\n",
    "    if data[i] == k:\n",
    "        index = i\n",
    "print(index)"
   ]
  },
  {
   "cell_type": "code",
   "execution_count": null,
   "id": "92b84ebc",
   "metadata": {},
   "outputs": [],
   "source": [
    "a = [1,3,5,9,10,15,17,19]\n",
    "k = 15\n",
    "\n",
    "def binary_func(a,k):\n",
    "    l = 0\n",
    "    r = len(a)-1 \n",
    "    while l <= r :\n",
    "        mid = (l+r)//2\n",
    "        if a[mid] == k:\n",
    "            return (mid)\n",
    "        elif a[mid] > k:\n",
    "            r = mid - 1\n",
    "        else: \n",
    "            l = mid + 1\n",
    "    return (-1)"
   ]
  },
  {
   "cell_type": "code",
   "execution_count": null,
   "id": "f49ca7bf",
   "metadata": {},
   "outputs": [],
   "source": [
    "binary_func(a,k)"
   ]
  },
  {
   "cell_type": "code",
   "execution_count": null,
   "id": "e3edf7d8",
   "metadata": {},
   "outputs": [],
   "source": [
    "#take input here\n",
    "\n",
    "import ast\n",
    "def binary_search_func():\n",
    "    sorted_list = ast.literal_eval(input())\n",
    "    key= int(input())\n",
    "    l = 0\n",
    "    r = len(sorted_list) - 1\n",
    "\n",
    "\n",
    "#find the index of key in list\n",
    "    while l<=r:\n",
    "       \n",
    "        mid = (l+r)//2\n",
    "        \n",
    "        if sorted_list[mid] == k:\n",
    "            return mid\n",
    "        elif sorted_list[mid] > k:\n",
    "            r = mid -1\n",
    "        else: \n",
    "            l = mid + 1\n",
    "            \n",
    "    return -1\n",
    "\n",
    "\n",
    "print(binary_search_func())"
   ]
  },
  {
   "cell_type": "code",
   "execution_count": null,
   "id": "9e8d0943",
   "metadata": {},
   "outputs": [],
   "source": [
    "#take input here\n",
    "\n",
    "\n",
    "def binary_search_func():\n",
    "    sorted_list = ast.literal_eval(input())\n",
    "    key= int(input())\n",
    "    l = 0\n",
    "    r = len(sorted_list) - 1\n",
    "\n",
    "\n",
    "#find the index of key in list\n",
    "    while l<=r:\n",
    "        mid = (l+r)//2\n",
    "        if sorted_list[mid] == k:\n",
    "            return mid\n",
    "        elif sorted_list[mid] > k:\n",
    "            r = mid -1\n",
    "        else: \n",
    "            l = mid + 1\n",
    "            \n",
    "    return -1\n",
    "\n",
    "\n",
    "print(binary_search_func())"
   ]
  },
  {
   "cell_type": "code",
   "execution_count": null,
   "id": "398ed582",
   "metadata": {},
   "outputs": [],
   "source": [
    "#take input on your own\n",
    "import ast \n",
    "def func_1():\n",
    "    a = ast.literal_eval(input())\n",
    "    k = int(input())\n",
    "    l = 0\n",
    "    r = len(a)-1\n",
    "    while l<=r:\n",
    "        mid = (l+r) // 2\n",
    "        if a[mid] == k:\n",
    "            return mid\n",
    "        elif a[l] < a[mid]:\n",
    "            if k >= a[mid] & k < a[l]:\n",
    "                r = mid - 1\n",
    "            else:\n",
    "                l = mid + 1\n",
    "        elif a[l] > a[mid]:\n",
    "            if (k > a[mid]) & (k <= a[r]):\n",
    "                l = mid + 1\n",
    "            else:\n",
    "                r = mid - 1\n",
    "    return -1\n",
    "    \n",
    "print(func_1())"
   ]
  },
  {
   "cell_type": "code",
   "execution_count": null,
   "id": "5b7efe2c",
   "metadata": {},
   "outputs": [],
   "source": [
    "3, 5, 7, 9, 11, 13, 15, 17, 19, 21, 23, 25, 27"
   ]
  },
  {
   "cell_type": "code",
   "execution_count": 9,
   "id": "8e32569a",
   "metadata": {},
   "outputs": [
    {
     "name": "stdout",
     "output_type": "stream",
     "text": [
      "4\n"
     ]
    },
    {
     "data": {
      "text/plain": [
       "2.0"
      ]
     },
     "execution_count": 9,
     "metadata": {},
     "output_type": "execute_result"
    }
   ],
   "source": [
    "import math\n",
    "n = float(input())\n",
    "round(math.sqrt(n),4)"
   ]
  },
  {
   "cell_type": "code",
   "execution_count": 10,
   "id": "7222c1bf",
   "metadata": {},
   "outputs": [
    {
     "data": {
      "text/plain": [
       "1e-05"
      ]
     },
     "execution_count": 10,
     "metadata": {},
     "output_type": "execute_result"
    }
   ],
   "source": [
    "abs(0-5) > 10"
   ]
  },
  {
   "cell_type": "code",
   "execution_count": 13,
   "id": "0fcbcfb2",
   "metadata": {},
   "outputs": [
    {
     "name": "stdout",
     "output_type": "stream",
     "text": [
      "4\n",
      "2.0000\n"
     ]
    }
   ],
   "source": [
    "n = int(input())\n",
    "\n",
    "def squareroot(n):\n",
    "    l = 0\n",
    "    r = n\n",
    "    while abs(l-r) > 10**-5:\n",
    "        mid = (l+r)/2\n",
    "        if mid**2 > n:\n",
    "            r = mid\n",
    "        else: \n",
    "            l = mid \n",
    "    return round(mid,4)\n",
    "print('%.4f' %squareroot(n))"
   ]
  },
  {
   "cell_type": "code",
   "execution_count": 24,
   "id": "13cd601a",
   "metadata": {},
   "outputs": [],
   "source": [
    "#take input here\n",
    "import ast\n",
    "#start writing your code from here\n",
    "def binary_eval():\n",
    "    a = ast.literal_eval(input())\n",
    "    key = int(input())\n",
    "    l = 0\n",
    "    r = len(a) -1 \n",
    "    while (l <= r ):\n",
    "        mid = (l+r)//2\n",
    "        if a[mid] == key:\n",
    "            return mid\n",
    "        elif a[mid] > key:\n",
    "            r = mid - 1\n",
    "        else:\n",
    "            r = mid + 1\n",
    "    return - 1     \n",
    "\n"
   ]
  },
  {
   "cell_type": "code",
   "execution_count": null,
   "id": "d8291f42",
   "metadata": {},
   "outputs": [],
   "source": []
  },
  {
   "cell_type": "code",
   "execution_count": null,
   "id": "0a48a11f",
   "metadata": {},
   "outputs": [],
   "source": []
  },
  {
   "cell_type": "code",
   "execution_count": null,
   "id": "bb630fcd",
   "metadata": {},
   "outputs": [],
   "source": []
  }
 ],
 "metadata": {
  "kernelspec": {
   "display_name": "Python 3 (ipykernel)",
   "language": "python",
   "name": "python3"
  },
  "language_info": {
   "codemirror_mode": {
    "name": "ipython",
    "version": 3
   },
   "file_extension": ".py",
   "mimetype": "text/x-python",
   "name": "python",
   "nbconvert_exporter": "python",
   "pygments_lexer": "ipython3",
   "version": "3.11.5"
  }
 },
 "nbformat": 4,
 "nbformat_minor": 5
}

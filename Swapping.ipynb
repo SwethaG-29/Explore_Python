{
 "cells": [
  {
   "cell_type": "code",
   "execution_count": null,
   "id": "f4034567",
   "metadata": {},
   "outputs": [],
   "source": [
    "Swapping\n",
    "Description\n",
    "You are given two integer variables,  x and y. You have to swap the values stored in x and y.\n",
    "\n",
    "----------------------------------------------------------------------\n",
    "Input:\n",
    "Two numbers x and y separated by a comma.\n",
    "\n",
    "Output:\n",
    "Print 5 lines. The first two lines will have values of variables shown before swapping, and the last two lines will have values of variables shown after swapping. The third line will be blank.\n",
    "\n",
    "----------------------------------------------------------------------\n",
    "Sample input:\n",
    "20, 50\n",
    "\n",
    "Sample output:"
   ]
  },
  {
   "cell_type": "code",
   "execution_count": 6,
   "id": "f9b29a37",
   "metadata": {},
   "outputs": [
    {
     "name": "stdout",
     "output_type": "stream",
     "text": [
      "10,20\n",
      "x before swapping: 10\n",
      "y before swapping: 20\n",
      "\n",
      "x after swapping: 20\n",
      "y after swapping: 10\n"
     ]
    }
   ],
   "source": [
    "### SOLUTION 1\n",
    "\n",
    "in_string=input()\n",
    "\n",
    "#here extract the two numbers from the string\n",
    "s = in_string.split(\",\")\n",
    "s1 = int(s[0])\n",
    "s2 = int(s[1])\n",
    "print(\"x before swapping:\", s1)\n",
    "print(\"y before swapping:\", s2)\n",
    "temp = s1\n",
    "s1=s2\n",
    "s2 = temp\n",
    "print()\n",
    "print(\"x after swapping:\", s1)\n",
    "print(\"y after swapping:\", s2)"
   ]
  },
  {
   "cell_type": "code",
   "execution_count": 8,
   "id": "2d79fd21",
   "metadata": {},
   "outputs": [
    {
     "name": "stdout",
     "output_type": "stream",
     "text": [
      "10,20\n",
      "x before swapping: 10\n",
      "y before swapping: 20\n",
      "\n",
      "x after swapping: 20\n",
      "y after swapping: 10\n"
     ]
    }
   ],
   "source": [
    "### SOLUTION 2\n",
    "\n",
    "in_string=input()\n",
    "\n",
    "#here extract the two numbers from the string\n",
    "s1,s2 = in_string.split(\",\")\n",
    "s1 = int(s1)\n",
    "s2 = int(s2)\n",
    "print(\"x before swapping:\", s1)\n",
    "print(\"y before swapping:\", s2)\n",
    "s1 = s1+s2\n",
    "s2 = s1-s2\n",
    "s1 = s1-s2\n",
    "print()\n",
    "print(\"x after swapping:\", s1)\n",
    "print(\"y after swapping:\", s2)"
   ]
  },
  {
   "cell_type": "code",
   "execution_count": 10,
   "id": "50de8ead",
   "metadata": {},
   "outputs": [
    {
     "name": "stdout",
     "output_type": "stream",
     "text": [
      "10,20\n",
      "x before swapping: 10\n",
      "y before swapping: 20\n",
      "\n",
      "x after swapping: 20\n",
      "y after swapping: 10\n"
     ]
    }
   ],
   "source": [
    "### SOLUTION 3\n",
    "in_string=input()\n",
    "\n",
    "#here extract the two numbers from the string\n",
    "s1,s2 = in_string.split(\",\")\n",
    "s1 = int(s1)\n",
    "s2 = int(s2)\n",
    "print(\"x before swapping:\", s1)\n",
    "print(\"y before swapping:\", s2)\n",
    "s1,s2 = s2,s1\n",
    "print()\n",
    "print(\"x after swapping:\", s1)\n",
    "print(\"y after swapping:\", s2)"
   ]
  }
 ],
 "metadata": {
  "kernelspec": {
   "display_name": "Python 3 (ipykernel)",
   "language": "python",
   "name": "python3"
  },
  "language_info": {
   "codemirror_mode": {
    "name": "ipython",
    "version": 3
   },
   "file_extension": ".py",
   "mimetype": "text/x-python",
   "name": "python",
   "nbconvert_exporter": "python",
   "pygments_lexer": "ipython3",
   "version": "3.11.5"
  }
 },
 "nbformat": 4,
 "nbformat_minor": 5
}

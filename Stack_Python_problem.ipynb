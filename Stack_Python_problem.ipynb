{
 "cells": [
  {
   "cell_type": "markdown",
   "id": "e88981c6",
   "metadata": {},
   "source": [
    "Print the element\n",
    "Description\n",
    "You are given a stack, and you need to print the kth element from the top of the stack.\n",
    "\n",
    "Input Format\n",
    "\n",
    "The first line contains n space-separated integers denoting the elements of the stack.\n",
    "\n",
    "The second line contains an integer 'k' denoting the position of the element to be printed from the top of the stack.\n",
    "\n",
    "\n",
    "\n",
    "Output Format\n",
    "\n",
    "Print an integer. This should be the kth element from the top of the stack.\n",
    "\n",
    "Note: If the number of elements in the stack is less than k, then print “There are not enough elements in the stack”.\n",
    "\n",
    "\n",
    "\n",
    "Sample Input 1:\n",
    "\n",
    "1 2 3 4 5 6 7 8 9 10 11 12\n",
    "\n",
    "3\n",
    "\n",
    "Sample Output 1:\n",
    "\n",
    "10\n",
    "\n",
    "Explanation: The top of the stack contains element 12. The element at 3rd place from the top is 10.\n",
    "\n",
    "\n",
    "\n",
    "\n",
    "\n",
    "Sample Input 2:\n",
    "\n",
    "1 2 3 4\n",
    "\n",
    "5\n",
    "\n",
    "Sample Output 2:\n",
    "\n",
    "There are not enough elements in the stack"
   ]
  },
  {
   "cell_type": "code",
   "execution_count": 9,
   "id": "1dbb44db",
   "metadata": {},
   "outputs": [
    {
     "name": "stdout",
     "output_type": "stream",
     "text": [
      "1 2 3 4 5\n",
      "7\n",
      "There are not enough elements in the stack\n"
     ]
    }
   ],
   "source": [
    "# User defined class stack\n",
    "class Stack:\n",
    "    \n",
    "    def __init__(self):\n",
    "        self.items=[]\n",
    "                \n",
    "    def push(self, item):\n",
    "        self.items.append(item)        \n",
    "        \n",
    "    def pop(self):\n",
    "        if self.isEmpty():\n",
    "            return -1\n",
    "        \n",
    "        return self.items.pop()\n",
    "    \n",
    "    def isEmpty(self):\n",
    "        return self.items==[]\n",
    "    \n",
    "    def peek(self):\n",
    "        return self.items[len(self.items)-1]\n",
    "    \n",
    "    def size(self):\n",
    "        return len(self.items)\n",
    "#print_elements is a separate function and \n",
    "#not part of the class Stack\n",
    "def print_element(s,k):\n",
    "  # write your logic here using the methods of Stack class(s.method_name) \n",
    "  #and print the kth element\n",
    "    if len(s.items) < k:\n",
    "        print(\"There are not enough elements in the stack\")\n",
    "    else:\n",
    "        print(s.items[len(s.items)-k])\n",
    "           \n",
    "# Constructor to create stack\n",
    "if __name__ == '__main__':\n",
    "    s=Stack()\n",
    "    inp=input().split()\n",
    "    k=int(input())\n",
    "    for ele in inp:\n",
    "        s.push(ele)\n",
    "    # s- stack instance, k is an integer\n",
    "    print_element(s,k)"
   ]
  },
  {
   "cell_type": "code",
   "execution_count": 19,
   "id": "46d1ac04",
   "metadata": {},
   "outputs": [],
   "source": []
  },
  {
   "cell_type": "code",
   "execution_count": null,
   "id": "6334a392",
   "metadata": {},
   "outputs": [],
   "source": []
  },
  {
   "cell_type": "code",
   "execution_count": null,
   "id": "7cc7452a",
   "metadata": {},
   "outputs": [],
   "source": []
  }
 ],
 "metadata": {
  "kernelspec": {
   "display_name": "Python 3 (ipykernel)",
   "language": "python",
   "name": "python3"
  },
  "language_info": {
   "codemirror_mode": {
    "name": "ipython",
    "version": 3
   },
   "file_extension": ".py",
   "mimetype": "text/x-python",
   "name": "python",
   "nbconvert_exporter": "python",
   "pygments_lexer": "ipython3",
   "version": "3.11.5"
  }
 },
 "nbformat": 4,
 "nbformat_minor": 5
}

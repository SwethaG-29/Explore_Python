{
 "cells": [
  {
   "cell_type": "code",
   "execution_count": 3,
   "id": "333b5caf",
   "metadata": {},
   "outputs": [
    {
     "name": "stdout",
     "output_type": "stream",
     "text": [
      "Enter the value of L: 4\n",
      "Enter the value of R: 10\n",
      "Enter the value of K: 2\n",
      "Count of numbers whose sum of digits is divisible by K: 3\n"
     ]
    }
   ],
   "source": [
    "def sum_of_digits(n):\n",
    "    # Helper function to calculate the sum of digits of a number\n",
    "    return sum(int(digit) for digit in str(n))\n",
    "\n",
    "def rangeDivisibility(L, R, K):\n",
    "    count = 0\n",
    "    for i in range(L, R + 1):\n",
    "        if sum_of_digits(i) % K == 0:\n",
    "            count += 1\n",
    "    return count\n",
    "\n",
    "def main():\n",
    "    L = int(input(\"Enter the value of L: \"))\n",
    "    R = int(input(\"Enter the value of R: \"))\n",
    "    K = int(input(\"Enter the value of K: \"))\n",
    "    \n",
    "    result = rangeDivisibility(L, R, K)\n",
    "    print(\"Count of numbers whose sum of digits is divisible by K:\", result)\n",
    "\n",
    "# Run the program\n",
    "main()\n"
   ]
  }
 ],
 "metadata": {
  "kernelspec": {
   "display_name": "Python 3 (ipykernel)",
   "language": "python",
   "name": "python3"
  },
  "language_info": {
   "codemirror_mode": {
    "name": "ipython",
    "version": 3
   },
   "file_extension": ".py",
   "mimetype": "text/x-python",
   "name": "python",
   "nbconvert_exporter": "python",
   "pygments_lexer": "ipython3",
   "version": "3.11.5"
  }
 },
 "nbformat": 4,
 "nbformat_minor": 5
}

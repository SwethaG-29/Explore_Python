{
 "cells": [
  {
   "cell_type": "code",
   "execution_count": 19,
   "id": "b7a13a12",
   "metadata": {},
   "outputs": [
    {
     "name": "stdout",
     "output_type": "stream",
     "text": [
      "[3, 4, 2, 1]\n",
      "[3, 2, 4, 1]\n",
      "[3, 2, 1, 4]\n",
      "[2, 3, 1, 4]\n",
      "[2, 1, 3, 4]\n",
      "[1, 2, 3, 4]\n"
     ]
    },
    {
     "data": {
      "text/plain": [
       "[1, 2, 3, 4]"
      ]
     },
     "execution_count": 19,
     "metadata": {},
     "output_type": "execute_result"
    }
   ],
   "source": [
    "import ast \n",
    "def BubbleSort_func():\n",
    "    l = [4,3,2,1]\n",
    "    n = len(l) \n",
    "    \n",
    "    for i in range(0,n-1):\n",
    "        for j in range(0,n-i-1):\n",
    "            if l[j] > l[j+1]:\n",
    "                l[j+1],l[j] = l[j],l[j+1]\n",
    "                print(l)\n",
    "                \n",
    "    return l\n",
    "\n",
    "BubbleSort_func()            \n",
    "    "
   ]
  },
  {
   "cell_type": "code",
   "execution_count": 30,
   "id": "32807630",
   "metadata": {},
   "outputs": [
    {
     "name": "stdout",
     "output_type": "stream",
     "text": [
      "2\n",
      "[2, 1, 3, 4]\n",
      "[2, 3, 1, 4]\n",
      "[2, 3, 4, 1]\n",
      "[3, 2, 4, 1]\n",
      "[3, 4, 2, 1]\n"
     ]
    },
    {
     "data": {
      "text/plain": [
       "([3, 4, 2, 1], 5)"
      ]
     },
     "execution_count": 30,
     "metadata": {},
     "output_type": "execute_result"
    }
   ],
   "source": [
    "import ast \n",
    "def BubbleSort_func():\n",
    "    l = [1,2,3,4] \n",
    "    n = len (l)\n",
    "    cnt = 0\n",
    "    M = int(input())\n",
    "    for i in range(0,M):\n",
    "        for j in range(0,n-i-1):\n",
    "            if l[j] < l[j+1]:\n",
    "                l[j+1],l[j] = l[j],l[j+1]\n",
    "                print(l)\n",
    "                cnt = cnt + 1\n",
    "                \n",
    "                \n",
    "                \n",
    "    return l,cnt\n",
    "\n",
    "BubbleSort_func()            \n",
    "    "
   ]
  },
  {
   "cell_type": "code",
   "execution_count": 36,
   "id": "7d2c8e90",
   "metadata": {},
   "outputs": [
    {
     "name": "stdout",
     "output_type": "stream",
     "text": [
      "2\n",
      "1,2,3,4\n",
      "[2, 1, 3, 4]\n",
      "[2, 3, 1, 4]\n",
      "[2, 3, 4, 1]\n",
      "[3, 2, 4, 1]\n",
      "[3, 4, 2, 1]\n",
      "5\n"
     ]
    }
   ],
   "source": [
    "import ast\n",
    "# Input has been taken for you\n",
    "M=int(input())\n",
    "l= list(ast.literal_eval(input()))\n",
    "cnt = 0\n",
    "n = len(l)\n",
    "#Code your logic here\n",
    "for i in range(0,M):\n",
    "    for j in range(0,n-i-1):\n",
    "        if l[j] < l[j+1]:\n",
    "            l[j+1],l[j] = l[j],l[j+1]\n",
    "            print(l)\n",
    "            cnt = cnt + 1\n",
    "                \n",
    "                \n",
    "print(cnt)\n"
   ]
  },
  {
   "cell_type": "code",
   "execution_count": null,
   "id": "63e327f6",
   "metadata": {},
   "outputs": [],
   "source": []
  }
 ],
 "metadata": {
  "kernelspec": {
   "display_name": "Python 3 (ipykernel)",
   "language": "python",
   "name": "python3"
  },
  "language_info": {
   "codemirror_mode": {
    "name": "ipython",
    "version": 3
   },
   "file_extension": ".py",
   "mimetype": "text/x-python",
   "name": "python",
   "nbconvert_exporter": "python",
   "pygments_lexer": "ipython3",
   "version": "3.11.5"
  }
 },
 "nbformat": 4,
 "nbformat_minor": 5
}

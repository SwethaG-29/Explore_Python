{
 "cells": [
  {
   "cell_type": "code",
   "execution_count": 33,
   "id": "d21437fd",
   "metadata": {},
   "outputs": [
    {
     "data": {
      "text/plain": [
       "False"
      ]
     },
     "execution_count": 33,
     "metadata": {},
     "output_type": "execute_result"
    }
   ],
   "source": [
    "inp = \"(()))(()\"\n",
    "\n",
    "def balanced_paranthesis(inp):\n",
    "    cnt = 0\n",
    "    for i in range(len(inp)):\n",
    "        if inp[i] == \"(\":\n",
    "            cnt = cnt + 1\n",
    "        elif inp[i] == \")\":\n",
    "            if cnt > 0:\n",
    "                cnt = cnt - 1\n",
    "            else:\n",
    "                return False\n",
    "    if cnt == 0:\n",
    "        return True \n",
    "    else:\n",
    "        return False\n",
    "\n",
    "    \n",
    "\n",
    "balanced_paranthesis(inp) "
   ]
  },
  {
   "cell_type": "code",
   "execution_count": 36,
   "id": "f517c87f",
   "metadata": {},
   "outputs": [
    {
     "data": {
      "text/plain": [
       "True"
      ]
     },
     "execution_count": 36,
     "metadata": {},
     "output_type": "execute_result"
    }
   ],
   "source": [
    "inp = \"(){({)()}}\"\n",
    "\n",
    "def balanced_paranthesis(inp):\n",
    "    cnt1 = 0\n",
    "    cnt2 = 0\n",
    "    for i in range(len(inp)):\n",
    "        if inp[i] == \"(\":\n",
    "            cnt1 = cnt1 + 1\n",
    "        elif inp[i] == \"{\":\n",
    "            cnt2 = cnt2 + 1\n",
    "        elif inp[i] == \")\":\n",
    "            if cnt1 > 0:\n",
    "                cnt1 = cnt1 - 1\n",
    "            else:\n",
    "                return False\n",
    "        elif inp[i] == \"}\":\n",
    "            if cnt2 > 0:\n",
    "                cnt2 = cnt2 -1\n",
    "            else:\n",
    "                return False\n",
    "    if cnt1 == 0 and cnt2 == 0:\n",
    "        return True \n",
    "    else:\n",
    "        return False\n",
    "\n",
    "    \n",
    "\n",
    "balanced_paranthesis(inp) "
   ]
  },
  {
   "cell_type": "code",
   "execution_count": 89,
   "id": "2f87d573",
   "metadata": {},
   "outputs": [
    {
     "name": "stdout",
     "output_type": "stream",
     "text": [
      "(())))\n",
      "True\n"
     ]
    }
   ],
   "source": [
    "#### Using Stack \n",
    "\n",
    "\n",
    "class stack(): \n",
    "    def __init__(self):\n",
    "        self.items = []\n",
    "    \n",
    "    def push(self,insert):\n",
    "        return self.items.append(insert)\n",
    "    def pop(self):\n",
    "        if self.isEmpty():\n",
    "            return \"Stack is empty\"\n",
    "        else:\n",
    "            self.items.pop()\n",
    "    def isEmpty(self):\n",
    "        return self.items == []\n",
    "    def peek(self):\n",
    "        return self.items[len(self.items)]\n",
    "    \n",
    "def balanced_paranthesis(inp):\n",
    "    index = 0\n",
    "    while index < len(inp):\n",
    "        if inp == \"(\":\n",
    "            s.push(\"(\")\n",
    "                \n",
    "        elif inp == \")\":\n",
    "            s.pop()\n",
    "        index = index + 1\n",
    "            \n",
    "    if s.isEmpty() :\n",
    "        print(\"True\")\n",
    "    else:\n",
    "        print(\"False\")\n",
    "if __name__ == '__main__':\n",
    "    s = stack()\n",
    "    inp = \"(())))\"\n",
    "    print(inp)\n",
    "    balanced_paranthesis(inp)"
   ]
  },
  {
   "cell_type": "code",
   "execution_count": null,
   "id": "5baae892",
   "metadata": {},
   "outputs": [],
   "source": []
  },
  {
   "cell_type": "code",
   "execution_count": 7,
   "id": "0c469ebc",
   "metadata": {},
   "outputs": [],
   "source": [
    "##### Queue\n",
    "\n",
    "class queue():\n",
    "    \n",
    "    def __init__(self):\n",
    "        self.items = []\n",
    "        \n",
    "    def enqueue(self,ele):\n",
    "        self.items.insert(0,ele)\n",
    "    def dequeue(self):\n",
    "#         if dequeue.isEmpty():\n",
    "#             return \"Empty\"\n",
    "#         else:\n",
    "        return self.items.pop()\n",
    "    def isEmpty(self):\n",
    "        return self.items == []\n",
    "    \n",
    "    def size(self):\n",
    "        return len(self.items)\n",
    "        \n",
    "## Create an instance \n",
    "\n",
    "q = queue()"
   ]
  },
  {
   "cell_type": "code",
   "execution_count": 14,
   "id": "4a14e021",
   "metadata": {},
   "outputs": [],
   "source": [
    "q.enqueue(4)"
   ]
  },
  {
   "cell_type": "code",
   "execution_count": 15,
   "id": "df0d0dd2",
   "metadata": {},
   "outputs": [
    {
     "data": {
      "text/plain": [
       "[4, 4, 4, 4]"
      ]
     },
     "execution_count": 15,
     "metadata": {},
     "output_type": "execute_result"
    }
   ],
   "source": [
    "q.items"
   ]
  },
  {
   "cell_type": "code",
   "execution_count": 16,
   "id": "83e5a5bb",
   "metadata": {},
   "outputs": [
    {
     "data": {
      "text/plain": [
       "4"
      ]
     },
     "execution_count": 16,
     "metadata": {},
     "output_type": "execute_result"
    }
   ],
   "source": [
    "q.dequeue()"
   ]
  },
  {
   "cell_type": "code",
   "execution_count": null,
   "id": "8a3071ca",
   "metadata": {},
   "outputs": [],
   "source": []
  },
  {
   "cell_type": "code",
   "execution_count": null,
   "id": "2393ceef",
   "metadata": {},
   "outputs": [],
   "source": []
  },
  {
   "cell_type": "code",
   "execution_count": null,
   "id": "400c73f1",
   "metadata": {},
   "outputs": [],
   "source": []
  },
  {
   "cell_type": "code",
   "execution_count": 100,
   "id": "d4519ad0",
   "metadata": {},
   "outputs": [
    {
     "name": "stdout",
     "output_type": "stream",
     "text": [
      "['1', '2', '3', '4', '5', '6', '7', '8', '9', '10', '11', '12']\n",
      "peek 10\n"
     ]
    }
   ],
   "source": [
    "class Queue():\n",
    "    \n",
    "    def __init__(self):\n",
    "        self.items = []\n",
    "        \n",
    "    def enqueue(self,ele):\n",
    "        self.items.insert(0,ele)\n",
    "    def dequeue(self):\n",
    "        return self.items.pop()\n",
    "    def isEmpty(self):\n",
    "        return self.items == []\n",
    "    def size(self):\n",
    "        return len(self.items)\n",
    "    def peek(self):\n",
    "        return self.items[(len(self.items)-1)]\n",
    "    \n",
    "def func(inp,k):\n",
    "    \n",
    "    \n",
    "    for i in range(k-1):\n",
    "        dequeue_val = (q.dequeue())\n",
    "        \n",
    "    print(\"peek\",q.peek()) \n",
    "    \n",
    "if __name__ == '__main__':\n",
    "\n",
    "    q = Queue()\n",
    "    inp = \"1 2 3 4 5 6 7 8 9 10 11 12\".split()\n",
    "    k = 3\n",
    "    for i in range(len(inp)-1,-1,-1):\n",
    "        q.enqueue(inp[i])\n",
    "    inp = q.items[::-1]\n",
    "    print(q.items)\n",
    "    func(inp,k)"
   ]
  },
  {
   "cell_type": "code",
   "execution_count": 65,
   "id": "258e0318",
   "metadata": {},
   "outputs": [
    {
     "data": {
      "text/plain": [
       "'1'"
      ]
     },
     "execution_count": 65,
     "metadata": {},
     "output_type": "execute_result"
    }
   ],
   "source": [
    "q.dequeue()"
   ]
  },
  {
   "cell_type": "code",
   "execution_count": 39,
   "id": "879a29d9",
   "metadata": {},
   "outputs": [
    {
     "data": {
      "text/plain": [
       "['12', '11', '10', '9', '8', '7', '6', '5', '4', '3', '2', '1']"
      ]
     },
     "execution_count": 39,
     "metadata": {},
     "output_type": "execute_result"
    }
   ],
   "source": []
  },
  {
   "cell_type": "code",
   "execution_count": 36,
   "id": "dbce403c",
   "metadata": {},
   "outputs": [
    {
     "data": {
      "text/plain": [
       "['1 2 3 4 5 6 7 8 9 10 11 12']"
      ]
     },
     "execution_count": 36,
     "metadata": {},
     "output_type": "execute_result"
    }
   ],
   "source": [
    "q.items"
   ]
  },
  {
   "cell_type": "code",
   "execution_count": 37,
   "id": "7b48d0d9",
   "metadata": {},
   "outputs": [
    {
     "data": {
      "text/plain": [
       "'1 2 3 4 5 6 7 8 9 10 11 12'"
      ]
     },
     "execution_count": 37,
     "metadata": {},
     "output_type": "execute_result"
    }
   ],
   "source": [
    "q.dequeue()"
   ]
  },
  {
   "cell_type": "code",
   "execution_count": null,
   "id": "4e559db0",
   "metadata": {},
   "outputs": [],
   "source": [
    "l = ['Smith', 'Garry', 'Michael', 'Julian', 'Robert'], 3"
   ]
  },
  {
   "cell_type": "code",
   "execution_count": 101,
   "id": "5d92b8bb",
   "metadata": {},
   "outputs": [],
   "source": [
    "class Queue():\n",
    "    \n",
    "    def __init__(self):\n",
    "        self.items = []\n",
    "        \n",
    "    def enqueue(self,ele):\n",
    "        self.items.insert(0,ele)\n",
    "    def dequeue(self):\n",
    "        return self.items.pop()\n",
    "    def isEmpty(self):\n",
    "        return self.items == []\n",
    "    def size(self):\n",
    "        return len(self.items)\n",
    "    def peek(self):\n",
    "        return self.items[(len(self.items)-1)]\n",
    "    "
   ]
  },
  {
   "cell_type": "code",
   "execution_count": 112,
   "id": "c7601a46",
   "metadata": {},
   "outputs": [
    {
     "name": "stdout",
     "output_type": "stream",
     "text": [
      "['Robert', 'Julian', 'Michael', 'Garry', 'Smith']\n",
      "Smith\n",
      "0\n",
      "Garry\n",
      "1\n",
      "Michael\n",
      "2\n",
      "['Robert', 'Julian']\n"
     ]
    }
   ],
   "source": [
    "def func(l,k):\n",
    "    \n",
    "    for i in range(k):\n",
    "        print(q.dequeue())\n",
    "        print(i)\n",
    "    print(q.items) \n",
    "\n",
    "\n",
    "if __name__ == '__main__':\n",
    "    q = queue()\n",
    "    l = ['Smith', 'Garry', 'Michael', 'Julian', 'Robert']\n",
    "    K = 3\n",
    "    \n",
    "    \n",
    "    for i in l:\n",
    "        q.enqueue(i)\n",
    "    print(q.items)\n",
    "    func(l,k)\n",
    "    \n",
    "    "
   ]
  },
  {
   "cell_type": "code",
   "execution_count": null,
   "id": "93bf2ea5",
   "metadata": {},
   "outputs": [],
   "source": []
  },
  {
   "cell_type": "code",
   "execution_count": null,
   "id": "47a52278",
   "metadata": {},
   "outputs": [],
   "source": []
  }
 ],
 "metadata": {
  "kernelspec": {
   "display_name": "Python 3 (ipykernel)",
   "language": "python",
   "name": "python3"
  },
  "language_info": {
   "codemirror_mode": {
    "name": "ipython",
    "version": 3
   },
   "file_extension": ".py",
   "mimetype": "text/x-python",
   "name": "python",
   "nbconvert_exporter": "python",
   "pygments_lexer": "ipython3",
   "version": "3.11.5"
  }
 },
 "nbformat": 4,
 "nbformat_minor": 5
}

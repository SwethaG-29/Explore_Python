{
 "cells": [
  {
   "cell_type": "code",
   "execution_count": null,
   "id": "88ec5b06",
   "metadata": {},
   "outputs": [],
   "source": [
    "Write a solution to rename the columns as follows:\n",
    "\n",
    "id to student_id\n",
    "first to first_name\n",
    "last to last_name\n",
    "age to age_in_years\n",
    "The result format is in the following example.\n",
    "\n",
    " \n",
    "\n",
    "Example 1:\n",
    "Input:\n",
    "+----+---------+----------+-----+\n",
    "| id | first   | last     | age |\n",
    "+----+---------+----------+-----+\n",
    "| 1  | Mason   | King     | 6   |\n",
    "| 2  | Ava     | Wright   | 7   |\n",
    "| 3  | Taylor  | Hall     | 16  |\n",
    "| 4  | Georgia | Thompson | 18  |\n",
    "| 5  | Thomas  | Moore    | 10  |\n",
    "+----+---------+----------+-----+\n",
    "Output:\n",
    "+------------+------------+-----------+--------------+\n",
    "| student_id | first_name | last_name | age_in_years |\n",
    "+------------+------------+-----------+--------------+\n",
    "| 1          | Mason      | King      | 6            |\n",
    "| 2          | Ava        | Wright    | 7            |\n",
    "| 3          | Taylor     | Hall      | 16           |\n",
    "| 4          | Georgia    | Thompson  | 18           |\n",
    "| 5          | Thomas     | Moore     | 10           |\n",
    "+------------+------------+-----------+--------------+\n",
    "Explanation: \n",
    "The column names are changed accordingly."
   ]
  },
  {
   "cell_type": "code",
   "execution_count": 3,
   "id": "83b55433",
   "metadata": {},
   "outputs": [],
   "source": [
    "data = {\"id\": [1,2,3,4,5],\"first\": [\"Mason\", \"Ava\",\"Taylor\",\"Georgia\",\"Thomas\"],\"last\": [\"King\",\"Wright\",\"Hall\",\"Thompson\",\"Moore\"], \"age\": [6,7,16,18,10]}"
   ]
  },
  {
   "cell_type": "code",
   "execution_count": 9,
   "id": "a16672c2",
   "metadata": {},
   "outputs": [
    {
     "name": "stdout",
     "output_type": "stream",
     "text": [
      "{'id': [1, 2, 3, 4, 5], 'first': ['Mason', 'Ava', 'Taylor', 'Georgia', 'Thomas'], 'last': ['King', 'Wright', 'Hall', 'Thompson', 'Moore'], 'age': [6, 7, 16, 18, 10]}\n"
     ]
    },
    {
     "data": {
      "text/html": [
       "<div>\n",
       "<style scoped>\n",
       "    .dataframe tbody tr th:only-of-type {\n",
       "        vertical-align: middle;\n",
       "    }\n",
       "\n",
       "    .dataframe tbody tr th {\n",
       "        vertical-align: top;\n",
       "    }\n",
       "\n",
       "    .dataframe thead th {\n",
       "        text-align: right;\n",
       "    }\n",
       "</style>\n",
       "<table border=\"1\" class=\"dataframe\">\n",
       "  <thead>\n",
       "    <tr style=\"text-align: right;\">\n",
       "      <th></th>\n",
       "      <th>id</th>\n",
       "      <th>first</th>\n",
       "      <th>last</th>\n",
       "      <th>age</th>\n",
       "    </tr>\n",
       "  </thead>\n",
       "  <tbody>\n",
       "    <tr>\n",
       "      <th>0</th>\n",
       "      <td>1</td>\n",
       "      <td>Mason</td>\n",
       "      <td>King</td>\n",
       "      <td>6</td>\n",
       "    </tr>\n",
       "    <tr>\n",
       "      <th>1</th>\n",
       "      <td>2</td>\n",
       "      <td>Ava</td>\n",
       "      <td>Wright</td>\n",
       "      <td>7</td>\n",
       "    </tr>\n",
       "    <tr>\n",
       "      <th>2</th>\n",
       "      <td>3</td>\n",
       "      <td>Taylor</td>\n",
       "      <td>Hall</td>\n",
       "      <td>16</td>\n",
       "    </tr>\n",
       "    <tr>\n",
       "      <th>3</th>\n",
       "      <td>4</td>\n",
       "      <td>Georgia</td>\n",
       "      <td>Thompson</td>\n",
       "      <td>18</td>\n",
       "    </tr>\n",
       "    <tr>\n",
       "      <th>4</th>\n",
       "      <td>5</td>\n",
       "      <td>Thomas</td>\n",
       "      <td>Moore</td>\n",
       "      <td>10</td>\n",
       "    </tr>\n",
       "  </tbody>\n",
       "</table>\n",
       "</div>"
      ],
      "text/plain": [
       "   id    first      last  age\n",
       "0   1    Mason      King    6\n",
       "1   2      Ava    Wright    7\n",
       "2   3   Taylor      Hall   16\n",
       "3   4  Georgia  Thompson   18\n",
       "4   5   Thomas     Moore   10"
      ]
     },
     "execution_count": 9,
     "metadata": {},
     "output_type": "execute_result"
    }
   ],
   "source": [
    "import pandas as pd\n",
    "print(data)\n",
    "df = pd.DataFrame(data)\n",
    "df"
   ]
  },
  {
   "cell_type": "code",
   "execution_count": 10,
   "id": "d5ad4b80",
   "metadata": {},
   "outputs": [],
   "source": [
    "### Solution - 1\n",
    "df.columns = {\"student_id\", \"first_name\",\"last_name\",\"age_in_years\"}\n"
   ]
  },
  {
   "cell_type": "code",
   "execution_count": 11,
   "id": "d25f4942",
   "metadata": {},
   "outputs": [
    {
     "data": {
      "text/html": [
       "<div>\n",
       "<style scoped>\n",
       "    .dataframe tbody tr th:only-of-type {\n",
       "        vertical-align: middle;\n",
       "    }\n",
       "\n",
       "    .dataframe tbody tr th {\n",
       "        vertical-align: top;\n",
       "    }\n",
       "\n",
       "    .dataframe thead th {\n",
       "        text-align: right;\n",
       "    }\n",
       "</style>\n",
       "<table border=\"1\" class=\"dataframe\">\n",
       "  <thead>\n",
       "    <tr style=\"text-align: right;\">\n",
       "      <th></th>\n",
       "      <th>age_in_years</th>\n",
       "      <th>last_name</th>\n",
       "      <th>student_id</th>\n",
       "      <th>first_name</th>\n",
       "    </tr>\n",
       "  </thead>\n",
       "  <tbody>\n",
       "    <tr>\n",
       "      <th>0</th>\n",
       "      <td>1</td>\n",
       "      <td>Mason</td>\n",
       "      <td>King</td>\n",
       "      <td>6</td>\n",
       "    </tr>\n",
       "    <tr>\n",
       "      <th>1</th>\n",
       "      <td>2</td>\n",
       "      <td>Ava</td>\n",
       "      <td>Wright</td>\n",
       "      <td>7</td>\n",
       "    </tr>\n",
       "    <tr>\n",
       "      <th>2</th>\n",
       "      <td>3</td>\n",
       "      <td>Taylor</td>\n",
       "      <td>Hall</td>\n",
       "      <td>16</td>\n",
       "    </tr>\n",
       "    <tr>\n",
       "      <th>3</th>\n",
       "      <td>4</td>\n",
       "      <td>Georgia</td>\n",
       "      <td>Thompson</td>\n",
       "      <td>18</td>\n",
       "    </tr>\n",
       "    <tr>\n",
       "      <th>4</th>\n",
       "      <td>5</td>\n",
       "      <td>Thomas</td>\n",
       "      <td>Moore</td>\n",
       "      <td>10</td>\n",
       "    </tr>\n",
       "  </tbody>\n",
       "</table>\n",
       "</div>"
      ],
      "text/plain": [
       "   age_in_years last_name student_id  first_name\n",
       "0             1     Mason       King           6\n",
       "1             2       Ava     Wright           7\n",
       "2             3    Taylor       Hall          16\n",
       "3             4   Georgia   Thompson          18\n",
       "4             5    Thomas      Moore          10"
      ]
     },
     "execution_count": 11,
     "metadata": {},
     "output_type": "execute_result"
    }
   ],
   "source": [
    "df"
   ]
  },
  {
   "cell_type": "code",
   "execution_count": null,
   "id": "47ef002b",
   "metadata": {},
   "outputs": [],
   "source": [
    "### Solution -2 \n",
    "\n",
    "df.rename(columns = {})"
   ]
  },
  {
   "cell_type": "code",
   "execution_count": null,
   "id": "81b23b33",
   "metadata": {},
   "outputs": [],
   "source": []
  },
  {
   "cell_type": "code",
   "execution_count": null,
   "id": "73d4d4e7",
   "metadata": {},
   "outputs": [],
   "source": []
  }
 ],
 "metadata": {
  "kernelspec": {
   "display_name": "Python 3 (ipykernel)",
   "language": "python",
   "name": "python3"
  },
  "language_info": {
   "codemirror_mode": {
    "name": "ipython",
    "version": 3
   },
   "file_extension": ".py",
   "mimetype": "text/x-python",
   "name": "python",
   "nbconvert_exporter": "python",
   "pygments_lexer": "ipython3",
   "version": "3.11.5"
  }
 },
 "nbformat": 4,
 "nbformat_minor": 5
}

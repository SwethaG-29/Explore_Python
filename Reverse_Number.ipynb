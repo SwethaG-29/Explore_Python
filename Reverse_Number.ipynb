{
 "cells": [
  {
   "cell_type": "code",
   "execution_count": 22,
   "id": "203ef280",
   "metadata": {},
   "outputs": [
    {
     "ename": "TypeError",
     "evalue": "not all arguments converted during string formatting",
     "output_type": "error",
     "traceback": [
      "\u001b[0;31m---------------------------------------------------------------------------\u001b[0m",
      "\u001b[0;31mTypeError\u001b[0m                                 Traceback (most recent call last)",
      "Cell \u001b[0;32mIn[22], line 5\u001b[0m\n\u001b[1;32m      2\u001b[0m r \u001b[38;5;241m=\u001b[39m \u001b[38;5;241m0\u001b[39m\n\u001b[1;32m      3\u001b[0m \u001b[38;5;28;01mfor\u001b[39;00m i \u001b[38;5;129;01min\u001b[39;00m \u001b[38;5;28mrange\u001b[39m(\u001b[38;5;241m5\u001b[39m):\n\u001b[1;32m      4\u001b[0m \u001b[38;5;66;03m#     r = r + (n % 10)\u001b[39;00m\n\u001b[0;32m----> 5\u001b[0m     \u001b[38;5;28mprint\u001b[39m(n\u001b[38;5;241m%\u001b[39m\u001b[38;5;241m10\u001b[39m)\n",
      "\u001b[0;31mTypeError\u001b[0m: not all arguments converted during string formatting"
     ]
    }
   ],
   "source": [
    "n = 24312\n",
    "r = 0\n",
    "for i in range(5):\n",
    "#     r = r + (n % 10)\n",
    "    print(n%10)\n"
   ]
  },
  {
   "cell_type": "code",
   "execution_count": 45,
   "id": "94af9db0",
   "metadata": {
    "scrolled": true
   },
   "outputs": [
    {
     "name": "stdout",
     "output_type": "stream",
     "text": [
      "5\n",
      "51342\n"
     ]
    }
   ],
   "source": [
    "n = 24315\n",
    "print(len(str(n)))\n",
    "rem = 0\n",
    "for i in range(5):\n",
    "    rem = n % 10 + rem* 10\n",
    "    n = n //10\n",
    "print(rem)\n"
   ]
  },
  {
   "cell_type": "code",
   "execution_count": 1,
   "id": "02b70919",
   "metadata": {},
   "outputs": [
    {
     "name": "stdout",
     "output_type": "stream",
     "text": [
      "15,2\n"
     ]
    }
   ],
   "source": [
    "import ast\n",
    "m,c = ast.literal_eval(input())"
   ]
  },
  {
   "cell_type": "code",
   "execution_count": 2,
   "id": "1a0b44f7",
   "metadata": {},
   "outputs": [
    {
     "data": {
      "text/plain": [
       "5"
      ]
     },
     "execution_count": 2,
     "metadata": {},
     "output_type": "execute_result"
    }
   ],
   "source": [
    "choc = m // 3\n",
    "w = m // 3\n",
    "w"
   ]
  },
  {
   "cell_type": "code",
   "execution_count": null,
   "id": "17e63cc6",
   "metadata": {},
   "outputs": [],
   "source": [
    "while (choc//3 != 0):\n",
    "    choc = choc + w//3\n",
    "    w = w//3 + w % 3 \n",
    "print(choc)"
   ]
  },
  {
   "cell_type": "code",
   "execution_count": 53,
   "id": "54a2f348",
   "metadata": {},
   "outputs": [],
   "source": [
    "choc = m//w\n",
    "remaing = choc % 2"
   ]
  },
  {
   "cell_type": "code",
   "execution_count": 66,
   "id": "9879111f",
   "metadata": {
    "scrolled": true
   },
   "outputs": [
    {
     "name": "stdout",
     "output_type": "stream",
     "text": [
      "2\n"
     ]
    },
    {
     "data": {
      "text/plain": [
       "0"
      ]
     },
     "execution_count": 66,
     "metadata": {},
     "output_type": "execute_result"
    }
   ],
   "source": [
    "print(choc)\n",
    "remaing"
   ]
  },
  {
   "cell_type": "code",
   "execution_count": 67,
   "id": "3e44e951",
   "metadata": {},
   "outputs": [
    {
     "data": {
      "text/plain": [
       "2"
      ]
     },
     "execution_count": 67,
     "metadata": {},
     "output_type": "execute_result"
    }
   ],
   "source": [
    "w//3"
   ]
  },
  {
   "cell_type": "code",
   "execution_count": 37,
   "id": "e220eb9c",
   "metadata": {},
   "outputs": [
    {
     "name": "stdout",
     "output_type": "stream",
     "text": [
      "   * \n",
      "  * * \n",
      " * * * \n"
     ]
    }
   ],
   "source": [
    "n = 3\n",
    "for i in range(n):\n",
    "    for j in range(n-i):\n",
    "        print(end = \" \")\n",
    "    for j in range(0,i+1):\n",
    "        print('*', end = \" \")\n",
    "#     for k in range(1,):\n",
    "#         print(\"_\")\n",
    "    print()"
   ]
  },
  {
   "cell_type": "code",
   "execution_count": 38,
   "id": "de0c511a",
   "metadata": {},
   "outputs": [],
   "source": [
    "L=[10,20,30,40,50,60,70,80,90,100]"
   ]
  },
  {
   "cell_type": "code",
   "execution_count": 44,
   "id": "7851b135",
   "metadata": {},
   "outputs": [
    {
     "data": {
      "text/plain": [
       "[20, 40, 60, 80]"
      ]
     },
     "execution_count": 44,
     "metadata": {},
     "output_type": "execute_result"
    }
   ],
   "source": [
    "L[1:-1:2]"
   ]
  },
  {
   "cell_type": "code",
   "execution_count": 51,
   "id": "b485b65b",
   "metadata": {},
   "outputs": [
    {
     "data": {
      "text/plain": [
       "[20, 40, 60, 80]"
      ]
     },
     "execution_count": 51,
     "metadata": {},
     "output_type": "execute_result"
    }
   ],
   "source": [
    "[L[i] for i in range(1,len(L)-1,2)]"
   ]
  },
  {
   "cell_type": "code",
   "execution_count": 52,
   "id": "6cae9e65",
   "metadata": {},
   "outputs": [
    {
     "ename": "TypeError",
     "evalue": "list indices must be integers or slices, not tuple",
     "output_type": "error",
     "traceback": [
      "\u001b[0;31m---------------------------------------------------------------------------\u001b[0m",
      "\u001b[0;31mTypeError\u001b[0m                                 Traceback (most recent call last)",
      "Cell \u001b[0;32mIn[52], line 1\u001b[0m\n\u001b[0;32m----> 1\u001b[0m L[\u001b[38;5;241m1\u001b[39m, \u001b[38;5;241m3\u001b[39m, \u001b[38;5;241m5\u001b[39m, \u001b[38;5;241m7\u001b[39m]\n",
      "\u001b[0;31mTypeError\u001b[0m: list indices must be integers or slices, not tuple"
     ]
    }
   ],
   "source": [
    "\n",
    "L[1, 3, 5, 7]"
   ]
  },
  {
   "cell_type": "code",
   "execution_count": 54,
   "id": "0cfe8eed",
   "metadata": {},
   "outputs": [
    {
     "name": "stdout",
     "output_type": "stream",
     "text": [
      "2,-3,0,7,21\n",
      "-3\n",
      "[]\n"
     ]
    }
   ],
   "source": [
    "import ast \n",
    "res = []\n",
    "l = ast.literal_eval(input())\n",
    "for i in range(len(l)):\n",
    "    if l[i] < 0:\n",
    "#         res.extend(l[i])\n",
    "        print(l[i])\n",
    "print(res)\n",
    "        \n",
    "        \n",
    "        "
   ]
  },
  {
   "cell_type": "code",
   "execution_count": null,
   "id": "1311489b",
   "metadata": {},
   "outputs": [],
   "source": [
    "\n",
    "m\n",
    "for i in l:\n",
    "    "
   ]
  },
  {
   "cell_type": "code",
   "execution_count": 56,
   "id": "ce6a071e",
   "metadata": {},
   "outputs": [
    {
     "data": {
      "text/plain": [
       "-3"
      ]
     },
     "execution_count": 56,
     "metadata": {},
     "output_type": "execute_result"
    }
   ],
   "source": [
    "l = [2,-3,0,7,21]\n",
    "min(l)"
   ]
  },
  {
   "cell_type": "code",
   "execution_count": 70,
   "id": "49b943b3",
   "metadata": {},
   "outputs": [
    {
     "data": {
      "text/plain": [
       "False"
      ]
     },
     "execution_count": 70,
     "metadata": {},
     "output_type": "execute_result"
    }
   ],
   "source": [
    "l = [ [2,4,6,8,10],  4]\n",
    "avg = sum(l[0])//len(l[0])\n",
    "check = l[1]\n",
    "True if check > avg else False"
   ]
  },
  {
   "cell_type": "code",
   "execution_count": 75,
   "id": "25a9dc82",
   "metadata": {},
   "outputs": [
    {
     "data": {
      "text/plain": [
       "44.5"
      ]
     },
     "execution_count": 75,
     "metadata": {},
     "output_type": "execute_result"
    }
   ],
   "source": [
    "l1 = [23,45,34,76]\n",
    "l2 = [70,34,94]\n",
    "\n",
    "org_avg = sum(l1)/len(l1)\n",
    "org_avg\n"
   ]
  },
  {
   "cell_type": "code",
   "execution_count": 76,
   "id": "152c6509",
   "metadata": {},
   "outputs": [
    {
     "data": {
      "text/plain": [
       "57.25"
      ]
     },
     "execution_count": 76,
     "metadata": {},
     "output_type": "execute_result"
    }
   ],
   "source": [
    "(sum(l1) + l2[0])/"
   ]
  },
  {
   "cell_type": "code",
   "execution_count": 86,
   "id": "359bce79",
   "metadata": {},
   "outputs": [
    {
     "name": "stdout",
     "output_type": "stream",
     "text": [
      "272\n"
     ]
    }
   ],
   "source": [
    "for i in range(len(l2)):\n",
    "    sums = sum(l1, l2[i])\n",
    "print(sums)"
   ]
  },
  {
   "cell_type": "code",
   "execution_count": 87,
   "id": "8a25f872",
   "metadata": {},
   "outputs": [
    {
     "data": {
      "text/plain": [
       "248"
      ]
     },
     "execution_count": 87,
     "metadata": {},
     "output_type": "execute_result"
    }
   ],
   "source": [
    "sum(l1)+70\n"
   ]
  },
  {
   "cell_type": "code",
   "execution_count": null,
   "id": "e483473d",
   "metadata": {},
   "outputs": [],
   "source": []
  },
  {
   "cell_type": "code",
   "execution_count": null,
   "id": "70c9ef73",
   "metadata": {},
   "outputs": [],
   "source": []
  },
  {
   "cell_type": "code",
   "execution_count": null,
   "id": "1ceee445",
   "metadata": {},
   "outputs": [],
   "source": [
    "#Take input here\n",
    "#we will take input using ast sys\n",
    "import ast\n",
    "input_str = input()\n",
    "input_list = ast.literal_eval(input_str)\n",
    "\n",
    "#Remember how we took input in the Alarm clock Question in previous Session?\n",
    "#Lets see if you can finish taking input on your own\n",
    "\n",
    "data=input_list[0]\n",
    "check=input_list[1]\n",
    "\n",
    "#start writing your code to find if check is above average of data \n",
    "\n",
    "avg=sum(data)/len(data)\n",
    "if check>avg:\n",
    "    print(\"True\")\n",
    "else:\n",
    "    print(\"False\")"
   ]
  },
  {
   "cell_type": "code",
   "execution_count": 121,
   "id": "ec2e130c",
   "metadata": {},
   "outputs": [
    {
     "data": {
      "text/plain": [
       "44.5"
      ]
     },
     "execution_count": 121,
     "metadata": {},
     "output_type": "execute_result"
    }
   ],
   "source": [
    "l1 = [23,45,34,76]\n",
    "l2 = [70,34,94]\n",
    "\n",
    "org_avg = sum(l1)/len(l1)\n",
    "org_avg"
   ]
  },
  {
   "cell_type": "code",
   "execution_count": 117,
   "id": "2e7c862c",
   "metadata": {},
   "outputs": [
    {
     "ename": "TypeError",
     "evalue": "object of type 'int' has no len()",
     "output_type": "error",
     "traceback": [
      "\u001b[0;31m---------------------------------------------------------------------------\u001b[0m",
      "\u001b[0;31mTypeError\u001b[0m                                 Traceback (most recent call last)",
      "Cell \u001b[0;32mIn[117], line 4\u001b[0m\n\u001b[1;32m      2\u001b[0m \u001b[38;5;28;01mfor\u001b[39;00m i \u001b[38;5;129;01min\u001b[39;00m \u001b[38;5;28mrange\u001b[39m(\u001b[38;5;241m3\u001b[39m):\n\u001b[1;32m      3\u001b[0m     sums \u001b[38;5;241m=\u001b[39m l1 \u001b[38;5;241m+\u001b[39m l2[i]\n\u001b[0;32m----> 4\u001b[0m     \u001b[38;5;28mprint\u001b[39m(\u001b[38;5;28mlen\u001b[39m(sums))\n\u001b[1;32m      7\u001b[0m \u001b[38;5;28mprint\u001b[39m(sums)\n",
      "\u001b[0;31mTypeError\u001b[0m: object of type 'int' has no len()"
     ]
    }
   ],
   "source": [
    "l1 = sum(l1)\n",
    "for i in range(3):\n",
    "    sums = l1 + l2[i]\n",
    "    print(len(sums))\n",
    "\n",
    "    \n",
    "print(sums)"
   ]
  },
  {
   "cell_type": "code",
   "execution_count": 102,
   "id": "822e5c6e",
   "metadata": {},
   "outputs": [
    {
     "data": {
      "text/plain": [
       "178"
      ]
     },
     "execution_count": 102,
     "metadata": {},
     "output_type": "execute_result"
    }
   ],
   "source": [
    "sum(l1)"
   ]
  },
  {
   "cell_type": "code",
   "execution_count": 125,
   "id": "353cba3b",
   "metadata": {},
   "outputs": [
    {
     "name": "stdout",
     "output_type": "stream",
     "text": [
      "[23, 45, 34, 76]\n"
     ]
    }
   ],
   "source": [
    "def func(l1,l2):\n",
    "    data = sum(l1)\n",
    "    avg = data/len(l1)\n",
    "    \n",
    "    if check > avg:\n",
    "        return 1\n",
    "    else: \n",
    "        return 0\n",
    "\n",
    "for i in l2:\n",
    "    a = func(l1,l2)\n",
    "    if a == 1:\n",
    "        l1.append(a)\n",
    "print(l1)\n",
    "        \n",
    "    \n",
    "\n",
    "        "
   ]
  },
  {
   "cell_type": "code",
   "execution_count": 127,
   "id": "6fcddafd",
   "metadata": {},
   "outputs": [
    {
     "name": "stdout",
     "output_type": "stream",
     "text": [
      "[23, 45, 34, 76, 70, 94]\n"
     ]
    }
   ],
   "source": [
    "team = l1[:]\n",
    "avg = sum(team)/len(team)\n",
    "\n",
    "for i in l2:\n",
    "    if i > avg:\n",
    "        l1.append(i)\n",
    "    avg = sum(l1)/len(l1)\n",
    "print(l1)\n",
    "    "
   ]
  },
  {
   "cell_type": "code",
   "execution_count": 126,
   "id": "f5a9a75b",
   "metadata": {},
   "outputs": [
    {
     "name": "stdout",
     "output_type": "stream",
     "text": [
      "[10, 20, 30, 40, 50, 60, 80]\n"
     ]
    }
   ],
   "source": []
  },
  {
   "cell_type": "code",
   "execution_count": null,
   "id": "a15b373e",
   "metadata": {},
   "outputs": [],
   "source": []
  },
  {
   "cell_type": "code",
   "execution_count": null,
   "id": "1a95e303",
   "metadata": {},
   "outputs": [],
   "source": []
  },
  {
   "cell_type": "code",
   "execution_count": null,
   "id": "f2a63267",
   "metadata": {},
   "outputs": [],
   "source": []
  }
 ],
 "metadata": {
  "kernelspec": {
   "display_name": "Python 3 (ipykernel)",
   "language": "python",
   "name": "python3"
  },
  "language_info": {
   "codemirror_mode": {
    "name": "ipython",
    "version": 3
   },
   "file_extension": ".py",
   "mimetype": "text/x-python",
   "name": "python",
   "nbconvert_exporter": "python",
   "pygments_lexer": "ipython3",
   "version": "3.11.5"
  }
 },
 "nbformat": 4,
 "nbformat_minor": 5
}

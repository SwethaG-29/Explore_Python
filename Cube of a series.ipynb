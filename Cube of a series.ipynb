{
 "cells": [
  {
   "cell_type": "markdown",
   "id": "e121f529",
   "metadata": {},
   "source": [
    "Cube of a series\n",
    "Create a panda series that contains the first ‘n’ natural numbers and their respective cubes. The first ‘n’ numbers should appear in the index position.\n",
    "\n",
    "Hint: Use manual indexing.\n",
    "\n",
    " \n",
    "\n",
    "Format:\n",
    "\n",
    "Input: A natural number 'n'\n",
    "\n",
    "Output: A pandas series with the first 'n' natural numbers in the index position and their respective cubes in the adjacent column.\n",
    "\n",
    "\n",
    "\n",
    "Example:\n",
    "\n",
    "Input 1:\n",
    "\n",
    "4\n",
    "\n",
    "Output 1:\n",
    "\n",
    "1 1 \n",
    "\n",
    "2 8 \n",
    "\n",
    "3 27 \n",
    "\n",
    "4 64 \n",
    "\n",
    "dtype: int64"
   ]
  },
  {
   "cell_type": "code",
   "execution_count": 6,
   "id": "301cf77a",
   "metadata": {},
   "outputs": [
    {
     "name": "stdout",
     "output_type": "stream",
     "text": [
      "1     1\n",
      "2     8\n",
      "3    27\n",
      "4    64\n",
      "dtype: int64\n"
     ]
    }
   ],
   "source": [
    "import numpy as np\n",
    "import pandas as pd\n",
    "n = 4\n",
    "arr = np.arange(1,n+1)\n",
    "s = pd.Series(arr ** 3 , index = arr)\n",
    "print(s)"
   ]
  },
  {
   "cell_type": "code",
   "execution_count": null,
   "id": "df686a4c",
   "metadata": {},
   "outputs": [],
   "source": []
  },
  {
   "cell_type": "code",
   "execution_count": null,
   "id": "2add60f4",
   "metadata": {},
   "outputs": [],
   "source": []
  },
  {
   "cell_type": "code",
   "execution_count": null,
   "id": "5a1eeb13",
   "metadata": {},
   "outputs": [],
   "source": []
  },
  {
   "cell_type": "code",
   "execution_count": null,
   "id": "ecf6c51e",
   "metadata": {},
   "outputs": [],
   "source": []
  }
 ],
 "metadata": {
  "kernelspec": {
   "display_name": "Python 3 (ipykernel)",
   "language": "python",
   "name": "python3"
  },
  "language_info": {
   "codemirror_mode": {
    "name": "ipython",
    "version": 3
   },
   "file_extension": ".py",
   "mimetype": "text/x-python",
   "name": "python",
   "nbconvert_exporter": "python",
   "pygments_lexer": "ipython3",
   "version": "3.11.5"
  }
 },
 "nbformat": 4,
 "nbformat_minor": 5
}

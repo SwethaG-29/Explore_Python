{
 "cells": [
  {
   "cell_type": "markdown",
   "id": "30c08a91",
   "metadata": {},
   "source": [
    "Time Take for functions extimations"
   ]
  },
  {
   "cell_type": "code",
   "execution_count": 2,
   "id": "748d988f",
   "metadata": {},
   "outputs": [],
   "source": [
    "lst = [1,2,3,4,5,6,7,8,9]"
   ]
  },
  {
   "cell_type": "code",
   "execution_count": 3,
   "id": "921c04bf",
   "metadata": {},
   "outputs": [
    {
     "name": "stdout",
     "output_type": "stream",
     "text": [
      "55.8 ns ± 1.27 ns per loop (mean ± std. dev. of 7 runs, 10,000,000 loops each)\n"
     ]
    }
   ],
   "source": [
    "%timeit sum(lst)"
   ]
  },
  {
   "cell_type": "code",
   "execution_count": 4,
   "id": "e149f2ee",
   "metadata": {},
   "outputs": [
    {
     "name": "stdout",
     "output_type": "stream",
     "text": [
      "11.3 ns ± 0.0384 ns per loop (mean ± std. dev. of 7 runs, 100,000,000 loops each)\n"
     ]
    }
   ],
   "source": [
    "%timeit len(lst)"
   ]
  },
  {
   "cell_type": "code",
   "execution_count": 7,
   "id": "a13984de",
   "metadata": {},
   "outputs": [
    {
     "name": "stdout",
     "output_type": "stream",
     "text": [
      "11.4 ns ± 0.0662 ns per loop (mean ± std. dev. of 7 runs, 100,000,000 loops each)\n"
     ]
    }
   ],
   "source": [
    "l = []\n",
    "%timeit l.append(lst)"
   ]
  },
  {
   "cell_type": "code",
   "execution_count": 8,
   "id": "226fa997",
   "metadata": {},
   "outputs": [
    {
     "name": "stdout",
     "output_type": "stream",
     "text": [
      "99.2 ns ± 1.01 ns per loop (mean ± std. dev. of 7 runs, 10,000,000 loops each)\n"
     ]
    }
   ],
   "source": [
    "%timeit max(lst)"
   ]
  },
  {
   "cell_type": "markdown",
   "id": "58ab67d4",
   "metadata": {},
   "source": [
    "l.append(lst) & len(lst) takes O(1) time complexity"
   ]
  },
  {
   "cell_type": "code",
   "execution_count": 15,
   "id": "e16ca947",
   "metadata": {},
   "outputs": [
    {
     "name": "stdout",
     "output_type": "stream",
     "text": [
      "48.5 ns ± 0.0451 ns per loop (mean ± std. dev. of 7 runs, 10,000,000 loops each)\n"
     ]
    }
   ],
   "source": [
    "string = \"abcsdfsdfabcsdfsdfabcsdfsdfabcsdfsdf\"\n",
    "%timeit len(string.split())"
   ]
  },
  {
   "cell_type": "code",
   "execution_count": 12,
   "id": "30542cd0",
   "metadata": {},
   "outputs": [],
   "source": [
    "def count_words_1(string):\n",
    "    for i in string:\n",
    "        count=1\n",
    "        if i=='':\n",
    "            count+=1\n",
    "        return count"
   ]
  },
  {
   "cell_type": "code",
   "execution_count": 13,
   "id": "b4278dd6",
   "metadata": {},
   "outputs": [
    {
     "name": "stdout",
     "output_type": "stream",
     "text": [
      "53.5 ns ± 0.747 ns per loop (mean ± std. dev. of 7 runs, 10,000,000 loops each)\n"
     ]
    }
   ],
   "source": [
    "%timeit res = count_words_1(\"abc\")"
   ]
  }
 ],
 "metadata": {
  "kernelspec": {
   "display_name": "Python 3 (ipykernel)",
   "language": "python",
   "name": "python3"
  },
  "language_info": {
   "codemirror_mode": {
    "name": "ipython",
    "version": 3
   },
   "file_extension": ".py",
   "mimetype": "text/x-python",
   "name": "python",
   "nbconvert_exporter": "python",
   "pygments_lexer": "ipython3",
   "version": "3.11.5"
  }
 },
 "nbformat": 4,
 "nbformat_minor": 5
}

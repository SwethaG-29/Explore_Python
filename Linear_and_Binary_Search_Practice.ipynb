{
 "cells": [
  {
   "cell_type": "code",
   "execution_count": null,
   "id": "8a43e036",
   "metadata": {},
   "outputs": [],
   "source": [
    "import pandas as pd\n",
    "import numpy as np"
   ]
  },
  {
   "cell_type": "code",
   "execution_count": null,
   "id": "75fb6d68",
   "metadata": {},
   "outputs": [],
   "source": [
    "# Linear Search\n",
    "def Linear_Search():\n",
    "    a = [5,4,3,7,9,11]\n",
    "    k = 7\n",
    "    index = -1\n",
    "    for i in range(0,len(a)):\n",
    "        if a[i] == k:\n",
    "            index = i\n",
    "            break\n",
    "    return index\n",
    "    \n",
    "print(Linear_Search())\n",
    "    "
   ]
  },
  {
   "cell_type": "code",
   "execution_count": null,
   "id": "aa7e1f54",
   "metadata": {},
   "outputs": [],
   "source": [
    "def Binary_Search():\n",
    "    a = [3,4,5,6,7,9,11]\n",
    "    k = 7\n",
    "    l = 0\n",
    "    r = len(a) - 1\n",
    "    while (l <= r):\n",
    "        \n",
    "        \n",
    "        mid = (l+r)//2\n",
    "        print(\"mid\",mid)\n",
    "        if a[mid] == k:\n",
    "            return k\n",
    "        elif a[mid] > k:\n",
    "            r = mid - 1\n",
    "            print(\"r\",a[mid])\n",
    "        else:\n",
    "            l = mid + 1\n",
    "            print(\"l\",a[mid])\n",
    "    return -1\n",
    "Binary_Search()\n",
    "            \n",
    "    "
   ]
  },
  {
   "cell_type": "code",
   "execution_count": null,
   "id": "884e4bfb",
   "metadata": {},
   "outputs": [],
   "source": []
  },
  {
   "cell_type": "code",
   "execution_count": null,
   "id": "45fdac05",
   "metadata": {},
   "outputs": [],
   "source": []
  }
 ],
 "metadata": {
  "kernelspec": {
   "display_name": "Python 3 (ipykernel)",
   "language": "python",
   "name": "python3"
  },
  "language_info": {
   "codemirror_mode": {
    "name": "ipython",
    "version": 3
   },
   "file_extension": ".py",
   "mimetype": "text/x-python",
   "name": "python",
   "nbconvert_exporter": "python",
   "pygments_lexer": "ipython3",
   "version": "3.11.5"
  }
 },
 "nbformat": 4,
 "nbformat_minor": 5
}

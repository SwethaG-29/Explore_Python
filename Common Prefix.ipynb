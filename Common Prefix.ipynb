{
 "cells": [
  {
   "cell_type": "code",
   "execution_count": null,
   "id": "7886f358",
   "metadata": {},
   "outputs": [],
   "source": [
    "Common Prefix\n",
    "[Difficulty: Hard]\n",
    "\n",
    "You will be given two strings. You have to find the largest prefix common in both the strings.\n",
    "\n",
    "\n",
    "\n",
    "----------------------------------------------------------------------\n",
    "\n",
    "Input:\n",
    "\n",
    "Two lines of input, one string on each line\n",
    "\n",
    "\n",
    "\n",
    "Output:\n",
    "\n",
    "The common largest prefix for both strings. Check sample input/output for clarification. -1 if no prefix is common.\n",
    "\n",
    "\n",
    "\n",
    "----------------------------------------------------------------------\n",
    "\n",
    "Sample input:\n",
    "\n",
    "abshdksajd\n",
    "\n",
    "abshiehand\n",
    "\n",
    "\n",
    "\n",
    "Sample output:\n",
    "\n",
    "absh\n",
    "\n",
    "\n",
    "\n",
    "----------------------------------------------------------------------\n",
    "\n",
    "Sample input:\n",
    "\n",
    "upgradData\n",
    "\n",
    "upGradScience\n",
    "\n",
    "\n",
    "\n",
    "Sample output:\n",
    "\n",
    "upgrad\n",
    "\n",
    "\n",
    "\n",
    "----------------------------------------------------------------------\n",
    "\n",
    "Note: the last sample input/output clearly shows the code is not case sensitive."
   ]
  },
  {
   "cell_type": "code",
   "execution_count": 20,
   "id": "bcbaec33",
   "metadata": {},
   "outputs": [
    {
     "name": "stdout",
     "output_type": "stream",
     "text": [
      "absh\n"
     ]
    }
   ],
   "source": [
    "s1 = \"abshDKSsajd\"\n",
    "s2 = \"abshiehan\"\n",
    "\n",
    "s1 = s1.lower()\n",
    "s2 = s2.lower()\n",
    "\n",
    "l1 = len(s1)\n",
    "l2 = len(s2)\n",
    "min_len = min(l1,l2)\n",
    "for i in range(min_len):\n",
    "    if s1[i]!=s2[i]:\n",
    "        break\n",
    "        \n",
    "if i == 0:\n",
    "    print(-1)\n",
    "else:\n",
    "    print(s1[:i])\n",
    "    "
   ]
  },
  {
   "cell_type": "code",
   "execution_count": 14,
   "id": "fea5c2e6",
   "metadata": {},
   "outputs": [],
   "source": []
  },
  {
   "cell_type": "code",
   "execution_count": null,
   "id": "20f5486c",
   "metadata": {},
   "outputs": [],
   "source": []
  },
  {
   "cell_type": "code",
   "execution_count": null,
   "id": "217e1925",
   "metadata": {},
   "outputs": [],
   "source": []
  }
 ],
 "metadata": {
  "kernelspec": {
   "display_name": "Python 3 (ipykernel)",
   "language": "python",
   "name": "python3"
  },
  "language_info": {
   "codemirror_mode": {
    "name": "ipython",
    "version": 3
   },
   "file_extension": ".py",
   "mimetype": "text/x-python",
   "name": "python",
   "nbconvert_exporter": "python",
   "pygments_lexer": "ipython3",
   "version": "3.11.5"
  }
 },
 "nbformat": 4,
 "nbformat_minor": 5
}

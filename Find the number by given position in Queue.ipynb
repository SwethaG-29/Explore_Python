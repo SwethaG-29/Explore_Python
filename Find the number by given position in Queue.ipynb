{
 "cells": [
  {
   "cell_type": "markdown",
   "id": "d7daf88c",
   "metadata": {},
   "source": [
    "Print the element\n",
    "Description\n",
    "You are given a queue with n integers and you need to print the 'k'th element from the front(head) of the queue\n",
    "\n",
    "Input Format\n",
    "\n",
    "The first line contains n space-separated integers denoting the elements of the queue.\n",
    "\n",
    "The second line contains an integer 'k' denoting the position of the element to be printed from the front of the queue.\n",
    "\n",
    "\n",
    "\n",
    "Output Format\n",
    "\n",
    "Print an integer. This should be the kth element from the front end or the head of the queue.\n",
    "\n",
    "Note: If the number of elements in the queue is less than k, then print “There are not enough elements in the queue”.\n",
    "\n",
    "\n",
    "\n",
    "Sample Input 1:\n",
    "\n",
    "1 2 3 4 5 6 7 8 9 10 11 12\n",
    "\n",
    "3\n",
    "\n",
    "Sample Output 1:\n",
    "\n",
    "10\n",
    "\n",
    "\n",
    "\n",
    "Sample Input 2:\n",
    "\n",
    "1 2 3 4\n",
    "\n",
    "5\n",
    "\n",
    "Sample Output 2:\n",
    "\n",
    "There are not enough elements in the queue\n",
    "\n"
   ]
  },
  {
   "cell_type": "code",
   "execution_count": 6,
   "id": "b0eb0e23",
   "metadata": {},
   "outputs": [
    {
     "name": "stdout",
     "output_type": "stream",
     "text": [
      "1 2 3 4 5\n",
      "4\n",
      "1\n"
     ]
    }
   ],
   "source": [
    "class Queue:\n",
    "    def __init__(self):\n",
    "        self.items=[]\n",
    "    def enqueue(self, item):\n",
    "        self.items.insert(0,item)        \n",
    "    def dequeue(self):\n",
    "        if self.isEmpty():\n",
    "            return -1\n",
    "        return self.items.pop()\n",
    "\n",
    "    def isEmpty(self):\n",
    "        return self.items==[]\n",
    "    def size(self):\n",
    "        return len(self.items)\n",
    "    def peek(self):\n",
    "        return self.items[-1]\n",
    "    \n",
    "def print_element(q,k):\n",
    "    # q- input queue, k- kth element from the front\n",
    "    # print the kth element from the front end of queue\n",
    "    # write your code here. \n",
    "    if len(q.items) < k:\n",
    "        print(\"There are not enough elements in the stack\")\n",
    "    else:\n",
    "        print(q.items[k])\n",
    "    \n",
    "    \n",
    "    \n",
    "    \n",
    "    \n",
    "    \n",
    "    \n",
    "    \n",
    "    \n",
    "#creating a queue and passing it as an argument to print_element function\n",
    "if __name__ == '__main__':\n",
    "    q=Queue()\n",
    "    #Take input from user\n",
    "    inp=input().split()\n",
    "    k=int(input())\n",
    "    for ele in inp:\n",
    "        q.enqueue(ele)\n",
    "    print_element(q,k)\n",
    "            "
   ]
  },
  {
   "cell_type": "code",
   "execution_count": null,
   "id": "caf1bdc7",
   "metadata": {},
   "outputs": [],
   "source": []
  },
  {
   "cell_type": "code",
   "execution_count": null,
   "id": "62d20d9d",
   "metadata": {},
   "outputs": [],
   "source": []
  },
  {
   "cell_type": "code",
   "execution_count": null,
   "id": "c6bb7281",
   "metadata": {},
   "outputs": [],
   "source": []
  }
 ],
 "metadata": {
  "kernelspec": {
   "display_name": "Python 3 (ipykernel)",
   "language": "python",
   "name": "python3"
  },
  "language_info": {
   "codemirror_mode": {
    "name": "ipython",
    "version": 3
   },
   "file_extension": ".py",
   "mimetype": "text/x-python",
   "name": "python",
   "nbconvert_exporter": "python",
   "pygments_lexer": "ipython3",
   "version": "3.11.5"
  }
 },
 "nbformat": 4,
 "nbformat_minor": 5
}

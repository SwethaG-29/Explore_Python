{
 "cells": [
  {
   "cell_type": "code",
   "execution_count": 48,
   "id": "932641ff",
   "metadata": {},
   "outputs": [],
   "source": [
    "# Defining Function to find Two elements\n",
    "# whose sum is closest to zero\n",
    "def closesttozero(l):\n",
    "    res={}\n",
    "    # List should have at least two elements\n",
    "    if len(l) < 2:\n",
    "        print(\"Invalid Input\")\n",
    "        return\n",
    "    # Initialization of loops to calculate sum\n",
    "    for i in range(len(l)-1):\n",
    "        for j in range(i+1, len(l)):\n",
    "            # To add all Values in Empty Dictionary\n",
    "            res[(l[i],l[j])]=abs(l[i]+l[j])\n",
    "    # Sort All dictonary items on the basis of Values\n",
    "    final_dic=sorted(res.items(), key=lambda x:x[1])\n",
    "    \n",
    "    #Return Two elements which is having sum Closest to zero in Tuple\n",
    "    return tuple(final_dic[0][0])"
   ]
  },
  {
   "cell_type": "code",
   "execution_count": 49,
   "id": "bb532df0",
   "metadata": {},
   "outputs": [
    {
     "data": {
      "text/plain": [
       "(6, -5)"
      ]
     },
     "execution_count": 49,
     "metadata": {},
     "output_type": "execute_result"
    }
   ],
   "source": [
    "inp1 = [-4,7,6,2,-5]\n",
    "closesttozero(inp1)"
   ]
  },
  {
   "cell_type": "code",
   "execution_count": 95,
   "id": "40783fb8",
   "metadata": {},
   "outputs": [],
   "source": [
    "def find_closest_sum(lst,n):\n",
    "    lst.sort ()\n",
    "    print(\"Sorted List are:\", lst,\"\\n\")\n",
    "    # Sort the list in ascending order\n",
    "    left = 0\n",
    "    right = len(lst) - 1\n",
    "    min_sum = float ('inf') #Initialize with Large value\n",
    "    min_pair = None\n",
    "    if(n < 2):\n",
    "        print(\"Invalid Input\")\n",
    "        return\n",
    "    \n",
    "    while left < right:\n",
    "        current_sum = lst[left] + lst[right]\n",
    "        if abs(current_sum) < abs (min_sum):\n",
    "            min_sum = current_sum\n",
    "            min_pair = (lst[left], lst[right])\n",
    "            print(\"Pair values:\",min_pair)\n",
    "            print(\"current_sum\",current_sum)\n",
    "        if current_sum < 0:\n",
    "            left +=1\n",
    "            print(\"Current left value\",left,\"\\n\")\n",
    "        else:\n",
    "            right -=1\n",
    "            print(\"Current right value\",right,\"\\n\")\n",
    "    return min_pair\n",
    "    "
   ]
  },
  {
   "cell_type": "code",
   "execution_count": 96,
   "id": "15e97260",
   "metadata": {},
   "outputs": [
    {
     "name": "stdout",
     "output_type": "stream",
     "text": [
      "Sorted List are: [-9, 2, 3, 10, 11, 15, 18, 25, 27, 91] \n",
      "\n",
      "<class 'NoneType'>\n",
      "Pair values: (-9, 91)\n",
      "current_sum 82\n",
      "Current right value 8 \n",
      "\n",
      "Pair values: (-9, 27)\n",
      "current_sum 18\n",
      "Current right value 7 \n",
      "\n",
      "Pair values: (-9, 25)\n",
      "current_sum 16\n",
      "Current right value 6 \n",
      "\n",
      "Pair values: (-9, 18)\n",
      "current_sum 9\n",
      "Current right value 5 \n",
      "\n",
      "Pair values: (-9, 15)\n",
      "current_sum 6\n",
      "Current right value 4 \n",
      "\n",
      "Pair values: (-9, 11)\n",
      "current_sum 2\n",
      "Current right value 3 \n",
      "\n",
      "Pair values: (-9, 10)\n",
      "current_sum 1\n",
      "Current right value 2 \n",
      "\n",
      "Current left value 1 \n",
      "\n",
      "Current right value 1 \n",
      "\n"
     ]
    },
    {
     "data": {
      "text/plain": [
       "(-9, 10)"
      ]
     },
     "execution_count": 96,
     "metadata": {},
     "output_type": "execute_result"
    }
   ],
   "source": [
    "lst = [10,-9,3,25,18,11,2,15,91,27]\n",
    "\n",
    "n = len(lst)\n",
    "find_closest_sum(lst,n)"
   ]
  },
  {
   "cell_type": "code",
   "execution_count": null,
   "id": "bc691364",
   "metadata": {},
   "outputs": [],
   "source": []
  }
 ],
 "metadata": {
  "kernelspec": {
   "display_name": "Python 3 (ipykernel)",
   "language": "python",
   "name": "python3"
  },
  "language_info": {
   "codemirror_mode": {
    "name": "ipython",
    "version": 3
   },
   "file_extension": ".py",
   "mimetype": "text/x-python",
   "name": "python",
   "nbconvert_exporter": "python",
   "pygments_lexer": "ipython3",
   "version": "3.11.5"
  }
 },
 "nbformat": 4,
 "nbformat_minor": 5
}

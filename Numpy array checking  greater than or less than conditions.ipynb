{
 "cells": [
  {
   "cell_type": "markdown",
   "id": "b341e21f",
   "metadata": {},
   "source": [
    "Extracting Certain Elements\n",
    "From a given array, extract all the elements which are greater than or equal to 'm' and less than or equal to 'n'. Note: 'm' and 'n' are integer values provided as input."
   ]
  },
  {
   "cell_type": "code",
   "execution_count": 3,
   "id": "789ef612",
   "metadata": {},
   "outputs": [],
   "source": [
    "import numpy as np"
   ]
  },
  {
   "cell_type": "code",
   "execution_count": 6,
   "id": "7dbfcf5f",
   "metadata": {},
   "outputs": [
    {
     "name": "stdout",
     "output_type": "stream",
     "text": [
      "1, 5, 9, 12, 15, 7, 12, 9\n",
      "6\n",
      "12\n"
     ]
    },
    {
     "data": {
      "text/plain": [
       "array([ 9, 12,  7, 12,  9])"
      ]
     },
     "execution_count": 6,
     "metadata": {},
     "output_type": "execute_result"
    }
   ],
   "source": [
    "import ast\n",
    "input_list=ast.literal_eval(input())\n",
    "m=int(input())\n",
    "n=int(input())\n",
    "\n",
    "input_list = np.array(input_list)\n",
    "final_array = input_list[(input_list >= m) & (input_list <=n)]\n",
    "final_array"
   ]
  },
  {
   "cell_type": "code",
   "execution_count": 5,
   "id": "4ea41253",
   "metadata": {},
   "outputs": [
    {
     "name": "stdout",
     "output_type": "stream",
     "text": [
      " 1, 5, 9, 12, 15, 7, 12, 9\n",
      "6\n",
      "12\n",
      "[ 9 12  7 12  9]\n"
     ]
    }
   ],
   "source": [
    "#take input here\n",
    "import ast\n",
    "input_list=ast.literal_eval(input())\n",
    "m=int(input())\n",
    "n=int(input())\n",
    "\n",
    "#start writing your code from here\n",
    "import numpy as np \n",
    "array_1 = np.array(input_list)\n",
    "final_array = array_1[(array_1<=n) & (array_1>=m)]\n",
    "\n",
    "print(final_array)"
   ]
  },
  {
   "cell_type": "code",
   "execution_count": null,
   "id": "1c9d2ad1",
   "metadata": {},
   "outputs": [],
   "source": []
  },
  {
   "cell_type": "code",
   "execution_count": null,
   "id": "ea441bfc",
   "metadata": {},
   "outputs": [],
   "source": []
  },
  {
   "cell_type": "code",
   "execution_count": null,
   "id": "c03812f3",
   "metadata": {},
   "outputs": [],
   "source": []
  },
  {
   "cell_type": "code",
   "execution_count": null,
   "id": "4483c76c",
   "metadata": {},
   "outputs": [],
   "source": []
  }
 ],
 "metadata": {
  "kernelspec": {
   "display_name": "Python 3 (ipykernel)",
   "language": "python",
   "name": "python3"
  },
  "language_info": {
   "codemirror_mode": {
    "name": "ipython",
    "version": 3
   },
   "file_extension": ".py",
   "mimetype": "text/x-python",
   "name": "python",
   "nbconvert_exporter": "python",
   "pygments_lexer": "ipython3",
   "version": "3.11.5"
  }
 },
 "nbformat": 4,
 "nbformat_minor": 5
}

{
 "cells": [
  {
   "cell_type": "code",
   "execution_count": 59,
   "id": "f7a0acd3",
   "metadata": {},
   "outputs": [
    {
     "name": "stdout",
     "output_type": "stream",
     "text": [
      "1 2 3 4\n",
      "items are 2\n"
     ]
    }
   ],
   "source": [
    "class stack():\n",
    "    \n",
    "    def __init__(self):\n",
    "        self.items = []\n",
    "        \n",
    "    def push(self,insert):\n",
    "        return self.items.append(insert)\n",
    "    \n",
    "    def isEmpty(self):\n",
    "        return self.items == []\n",
    "\n",
    "    def pop(self):\n",
    "        if self.isEmpty():\n",
    "            return (\"Empty stack\")\n",
    "        return self.items.pop()\n",
    "            \n",
    "    def peek(self):\n",
    "        return self.items[len(self.items)-1]\n",
    "    def size(self):\n",
    "        return len(self.items)\n",
    "\n",
    "def func(s,k):\n",
    "    if s.size() < k:\n",
    "        print( \"There are not enough elements in the stack\")\n",
    "    else:\n",
    "        print (\"Top most items are\",s.items[-k])\n",
    "    \n",
    "    \n",
    "    \n",
    "if __name__ == \"__main__\":\n",
    "    s = stack()\n",
    "    inp = input().split()\n",
    "    k = 3\n",
    "    for i in inp:\n",
    "        (s.push(i))\n",
    "    func(s,k)\n",
    "    "
   ]
  },
  {
   "cell_type": "code",
   "execution_count": 60,
   "id": "f0165731",
   "metadata": {},
   "outputs": [
    {
     "name": "stdout",
     "output_type": "stream",
     "text": [
      "1 2 3 4\n",
      "2\n"
     ]
    }
   ],
   "source": [
    "class stack():\n",
    "    \n",
    "    def __init__(self):\n",
    "        self.items = []\n",
    "        \n",
    "    def push(self,insert):\n",
    "        return self.items.append(insert)\n",
    "    \n",
    "    def isEmpty(self):\n",
    "        return self.items == []\n",
    "\n",
    "    def pop(self):\n",
    "        if self.isEmpty():\n",
    "            return (\"Empty stack\")\n",
    "        return self.items.pop()\n",
    "            \n",
    "    def peek(self):\n",
    "        return self.items[len(self.items)-1]\n",
    "    def size(self):\n",
    "        return len(self.items)\n",
    "\n",
    "def func(s,k):\n",
    "    for i in range(1,k):\n",
    "        res = s.pop()\n",
    "    print(s.peek())\n",
    "    \n",
    "    \n",
    "    \n",
    "if __name__ == \"__main__\":\n",
    "    s = stack()\n",
    "    inp = input().split()\n",
    "    k = 3\n",
    "    for i in inp:\n",
    "        (s.push(i))\n",
    "    func(s,k)\n",
    "    "
   ]
  },
  {
   "cell_type": "code",
   "execution_count": 54,
   "id": "6934a6da",
   "metadata": {},
   "outputs": [
    {
     "data": {
      "text/plain": [
       "4"
      ]
     },
     "execution_count": 54,
     "metadata": {},
     "output_type": "execute_result"
    }
   ],
   "source": [
    "s.size()"
   ]
  },
  {
   "cell_type": "code",
   "execution_count": null,
   "id": "afb5ceb1",
   "metadata": {},
   "outputs": [],
   "source": [
    "if __name__ == '__main__':\n",
    "    s=Stack()\n",
    "    inp=input().split()\n",
    "    k=int(input())\n",
    "    for ele in inp:\n",
    "        s.push(ele)\n",
    "    # s- stack instance, k is an integer\n",
    "    print_element(s,k)"
   ]
  },
  {
   "cell_type": "code",
   "execution_count": 28,
   "id": "70dda850",
   "metadata": {},
   "outputs": [],
   "source": [
    "s = stack()\n",
    "s.push(10)\n",
    "s.push(1)\n",
    "s.push(2)\n",
    "s.push(4)\n",
    "s.push(7)"
   ]
  },
  {
   "cell_type": "code",
   "execution_count": 29,
   "id": "f75c6257",
   "metadata": {},
   "outputs": [
    {
     "data": {
      "text/plain": [
       "[10, 1, 2, 4, 7]"
      ]
     },
     "execution_count": 29,
     "metadata": {},
     "output_type": "execute_result"
    }
   ],
   "source": [
    "s.items"
   ]
  },
  {
   "cell_type": "code",
   "execution_count": 12,
   "id": "9666888c",
   "metadata": {},
   "outputs": [
    {
     "data": {
      "text/plain": [
       "'Empty stack'"
      ]
     },
     "execution_count": 12,
     "metadata": {},
     "output_type": "execute_result"
    }
   ],
   "source": [
    "s.pop()"
   ]
  },
  {
   "cell_type": "code",
   "execution_count": 30,
   "id": "00c31bfa",
   "metadata": {},
   "outputs": [
    {
     "data": {
      "text/plain": [
       "7"
      ]
     },
     "execution_count": 30,
     "metadata": {},
     "output_type": "execute_result"
    }
   ],
   "source": [
    "s.peek()"
   ]
  },
  {
   "cell_type": "code",
   "execution_count": 31,
   "id": "7e9c2260",
   "metadata": {},
   "outputs": [
    {
     "data": {
      "text/plain": [
       "False"
      ]
     },
     "execution_count": 31,
     "metadata": {},
     "output_type": "execute_result"
    }
   ],
   "source": [
    "s.isEmpty()"
   ]
  },
  {
   "cell_type": "code",
   "execution_count": 86,
   "id": "2f631767",
   "metadata": {},
   "outputs": [
    {
     "name": "stdout",
     "output_type": "stream",
     "text": [
      "dcba\n"
     ]
    }
   ],
   "source": [
    "class stack():\n",
    "    \n",
    "    def __init__(self):\n",
    "        self.items = []\n",
    "        \n",
    "    def push(self, insert):\n",
    "        return self.items.append(insert)\n",
    "        \n",
    "    def pop(self):     \n",
    "        if self.isEmpty():\n",
    "            return -1\n",
    "        return self.items.pop()\n",
    "    \n",
    "    def isEmpty(self):\n",
    "        return self.items == []\n",
    "\n",
    "    def peek(self):\n",
    "        return self.items[len(self.items)]\n",
    "    \n",
    "    def size(self):\n",
    "        return len(self.items)\n",
    "    \n",
    "def paindrome():\n",
    "    res = []\n",
    "    for i in range(s.size()):\n",
    "        r = s.pop()\n",
    "        res.append(r)\n",
    "    print(\"\".join(str(x) for x in res))\n",
    "\n",
    "    \n",
    "if __name__ == '__main__':\n",
    "    \n",
    "    s = stack()\n",
    "    inp = 'abcd'\n",
    "    \n",
    "    for i in inp:\n",
    "        s.push(i)\n",
    "    paindrome()\n",
    "    "
   ]
  },
  {
   "cell_type": "code",
   "execution_count": 93,
   "id": "3bc5f90e",
   "metadata": {},
   "outputs": [
    {
     "name": "stdout",
     "output_type": "stream",
     "text": [
      "abcd\n",
      "dcba\n"
     ]
    }
   ],
   "source": [
    "class Stack:\n",
    "    \n",
    "    def __init__(self):\n",
    "        self.items=[]\n",
    "                \n",
    "    def push(self, item):\n",
    "        self.items.append(item)        \n",
    "        \n",
    "    def pop(self):\n",
    "        if self.isEmpty():\n",
    "            return -1\n",
    "        \n",
    "        return self.items.pop()\n",
    "    \n",
    "    def isEmpty(self):\n",
    "        return self.items==[]\n",
    "    \n",
    "    def peek(self):\n",
    "        return self.items[len(self.items)-1]\n",
    "    \n",
    "    def size(self):\n",
    "        return len(self.items)\n",
    "# Reverse a string using stack and return the reversed string\n",
    "# s- an empty stack, string - string to be reversed\n",
    "def check_palindrome(string,s):\n",
    "  # write your logic here\n",
    "    res = []\n",
    "    for i in inp:\n",
    "        s.push(i)\n",
    "    for i in range(s.size()):\n",
    "        r = s.pop()\n",
    "        res.append(r)\n",
    "    return (\"\".join(str(x) for x in res))\n",
    "   \n",
    "   \n",
    "\n",
    "\n",
    "   \n",
    "if __name__ == '__main__':\n",
    "    #Taking input from the user\n",
    "    string=input()\n",
    "    s=Stack()\n",
    "    # An empty stack and a string is passed as an argument to the function\n",
    "    print(check_palindrome(string,s))"
   ]
  },
  {
   "cell_type": "code",
   "execution_count": 94,
   "id": "f689958e",
   "metadata": {},
   "outputs": [
    {
     "name": "stdout",
     "output_type": "stream",
     "text": [
      "abcd\n",
      "dcba\n"
     ]
    }
   ],
   "source": [
    "class Stack:\n",
    "    \n",
    "    def __init__(self):\n",
    "        self.items=[]\n",
    "                \n",
    "    def push(self, item):\n",
    "        self.items.append(item)        \n",
    "        \n",
    "    def pop(self):\n",
    "        if self.isEmpty():\n",
    "            return -1\n",
    "        \n",
    "        return self.items.pop()\n",
    "    \n",
    "    def isEmpty(self):\n",
    "        return self.items==[]\n",
    "    \n",
    "    def peek(self):\n",
    "        return self.items[len(self.items)-1]\n",
    "    \n",
    "    def size(self):\n",
    "        return len(self.items)\n",
    "# Reverse a string using stack and return the reversed string\n",
    "# s- an empty stack, string - string to be reversed\n",
    "def check_palindrome(string,s):\n",
    "  # write your logic here\n",
    "    res = []\n",
    "    for i in inp:\n",
    "        s.push(i)\n",
    "    for i in range(s.size()):\n",
    "        r = s.pop()\n",
    "        res.append(r)\n",
    "    return (\"\".join(str(x) for x in res))\n",
    "   \n",
    "   \n",
    "   \n",
    "   \n",
    "   \n",
    "if __name__ == '__main__':\n",
    "    #Taking input from the user\n",
    "    string=input()\n",
    "    s=Stack()\n",
    "    # An empty stack and a string is passed as an argument to the function\n",
    "    print(check_palindrome(string,s))"
   ]
  },
  {
   "cell_type": "code",
   "execution_count": null,
   "id": "5bd90cfc",
   "metadata": {},
   "outputs": [],
   "source": []
  },
  {
   "cell_type": "code",
   "execution_count": null,
   "id": "9fa2596f",
   "metadata": {},
   "outputs": [],
   "source": []
  },
  {
   "cell_type": "code",
   "execution_count": null,
   "id": "9d5dc829",
   "metadata": {},
   "outputs": [],
   "source": []
  },
  {
   "cell_type": "code",
   "execution_count": null,
   "id": "9cec09cc",
   "metadata": {},
   "outputs": [],
   "source": []
  },
  {
   "cell_type": "code",
   "execution_count": null,
   "id": "83b3c381",
   "metadata": {},
   "outputs": [],
   "source": []
  },
  {
   "cell_type": "code",
   "execution_count": null,
   "id": "ac4444cf",
   "metadata": {},
   "outputs": [],
   "source": []
  },
  {
   "cell_type": "code",
   "execution_count": null,
   "id": "682576eb",
   "metadata": {},
   "outputs": [],
   "source": []
  },
  {
   "cell_type": "code",
   "execution_count": null,
   "id": "80cfef4f",
   "metadata": {},
   "outputs": [],
   "source": []
  },
  {
   "cell_type": "code",
   "execution_count": null,
   "id": "959cfa08",
   "metadata": {},
   "outputs": [],
   "source": []
  },
  {
   "cell_type": "code",
   "execution_count": null,
   "id": "146f7219",
   "metadata": {},
   "outputs": [],
   "source": []
  },
  {
   "cell_type": "code",
   "execution_count": null,
   "id": "b6ba01e0",
   "metadata": {},
   "outputs": [],
   "source": []
  },
  {
   "cell_type": "code",
   "execution_count": null,
   "id": "c8f40c78",
   "metadata": {},
   "outputs": [],
   "source": []
  },
  {
   "cell_type": "code",
   "execution_count": null,
   "id": "189d89d0",
   "metadata": {},
   "outputs": [],
   "source": []
  },
  {
   "cell_type": "code",
   "execution_count": null,
   "id": "9a842538",
   "metadata": {},
   "outputs": [],
   "source": []
  },
  {
   "cell_type": "code",
   "execution_count": null,
   "id": "0c2e5333",
   "metadata": {},
   "outputs": [],
   "source": []
  }
 ],
 "metadata": {
  "kernelspec": {
   "display_name": "Python 3 (ipykernel)",
   "language": "python",
   "name": "python3"
  },
  "language_info": {
   "codemirror_mode": {
    "name": "ipython",
    "version": 3
   },
   "file_extension": ".py",
   "mimetype": "text/x-python",
   "name": "python",
   "nbconvert_exporter": "python",
   "pygments_lexer": "ipython3",
   "version": "3.11.5"
  }
 },
 "nbformat": 4,
 "nbformat_minor": 5
}

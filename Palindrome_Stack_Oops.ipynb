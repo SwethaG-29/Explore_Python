{
 "cells": [
  {
   "cell_type": "markdown",
   "id": "34fbdf73",
   "metadata": {},
   "source": [
    "Print the element\n",
    "Description\n",
    "You are given a stack, and you need to print the kth element from the top of the stack.\n",
    "\n",
    "\n",
    "\n",
    "Input Format\n",
    "\n",
    "The first line contains n space-separated integers denoting the elements of the stack.\n",
    "\n",
    "The second line contains an integer 'k' denoting the position of the element to be printed from the top of the stack.\n",
    "\n",
    "\n",
    "\n",
    "Output Format\n",
    "\n",
    "Print an integer. This should be the kth element from the top of the stack.\n",
    "\n",
    "Note: If the number of elements in the stack is less than k, then print “There are not enough elements in the stack”.\n",
    "\n",
    "\n",
    "\n",
    "Sample Input 1:\n",
    "\n",
    "1 2 3 4 5 6 7 8 9 10 11 12\n",
    "\n",
    "3\n",
    "\n",
    "Sample Output 1:\n",
    "\n",
    "10\n",
    "\n",
    "Explanation: The top of the stack contains element 12. The element at 3rd place from the top is 10.\n",
    "\n",
    "\n",
    "\n",
    "\n",
    "\n",
    "Sample Input 2:\n",
    "\n",
    "1 2 3 4\n",
    "\n",
    "5\n",
    "\n",
    "Sample Output 2:\n",
    "\n",
    "There are not enough elements in the stack"
   ]
  },
  {
   "cell_type": "code",
   "execution_count": 42,
   "id": "13820106",
   "metadata": {},
   "outputs": [
    {
     "name": "stdout",
     "output_type": "stream",
     "text": [
      "abcd\n",
      "dcba\n"
     ]
    }
   ],
   "source": [
    "class Stack:\n",
    "    \n",
    "    def __init__(self):\n",
    "        self.items=[]\n",
    "                \n",
    "    def push(self, item):\n",
    "        self.items.append(item)        \n",
    "        \n",
    "    def pop(self):\n",
    "        if self.isEmpty():\n",
    "            return -1\n",
    "        \n",
    "        return self.items.pop()\n",
    "    \n",
    "    def isEmpty(self):\n",
    "        return self.items==[]\n",
    "    \n",
    "    def peek(self):\n",
    "        return self.items[len(self.items)-1]\n",
    "    \n",
    "    def size(self):\n",
    "        return len(self.items)\n",
    "# Reverse a string using stack and return the reversed string\n",
    "# s- an empty stack, string - string to be reversed\n",
    "def check_palindrome(string,s):\n",
    "    for i in string:\n",
    "        s.push(i)\n",
    "    reverse = ''\n",
    "    while s.isEmpty() == False:\n",
    "        reverse = reverse + s.pop()\n",
    "    return (reverse)\n",
    "        \n",
    "        \n",
    "   \n",
    "   \n",
    "   \n",
    "   \n",
    "   \n",
    "if __name__ == '__main__':\n",
    "    #Taking input from the user\n",
    "    string=input()\n",
    "    s=Stack()\n",
    "    # An empty stack and a string is passed as an argument to the function\n",
    "    print(check_palindrome(string,s))"
   ]
  },
  {
   "cell_type": "code",
   "execution_count": null,
   "id": "2357ed4d",
   "metadata": {},
   "outputs": [],
   "source": []
  },
  {
   "cell_type": "code",
   "execution_count": null,
   "id": "bbc86725",
   "metadata": {},
   "outputs": [],
   "source": []
  },
  {
   "cell_type": "code",
   "execution_count": null,
   "id": "11fd4cbd",
   "metadata": {},
   "outputs": [],
   "source": []
  },
  {
   "cell_type": "code",
   "execution_count": null,
   "id": "99484518",
   "metadata": {},
   "outputs": [],
   "source": []
  },
  {
   "cell_type": "code",
   "execution_count": null,
   "id": "21051a3b",
   "metadata": {},
   "outputs": [],
   "source": []
  }
 ],
 "metadata": {
  "kernelspec": {
   "display_name": "Python 3 (ipykernel)",
   "language": "python",
   "name": "python3"
  },
  "language_info": {
   "codemirror_mode": {
    "name": "ipython",
    "version": 3
   },
   "file_extension": ".py",
   "mimetype": "text/x-python",
   "name": "python",
   "nbconvert_exporter": "python",
   "pygments_lexer": "ipython3",
   "version": "3.11.5"
  }
 },
 "nbformat": 4,
 "nbformat_minor": 5
}

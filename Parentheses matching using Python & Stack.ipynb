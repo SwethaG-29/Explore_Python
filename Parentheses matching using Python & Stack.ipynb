{
 "cells": [
  {
   "cell_type": "markdown",
   "id": "93e51f0d",
   "metadata": {},
   "source": [
    "Parentheses matching\n",
    "Description\n",
    "You are given a string of parentheses. You have to check whether the parentheses are well-formed in the string or not. Return 'True' if the parentheses are well-formed; otherwise, return 'False'.\n",
    "\n",
    "\n",
    "\n",
    "Input Format\n",
    "\n",
    " The input will be a string of parentheses\n",
    "\n",
    "Output Format\n",
    "\n",
    "Return True if the parentheses are well-formed in the string; otherwise, return False. \n",
    "\n",
    "\n",
    "\n",
    "Sample Input 1 :\n",
    "\n",
    "(())\n",
    "\n",
    "Sample Output 1:\n",
    "\n",
    "true\n",
    "\n",
    "Sample Input 2:\n",
    "\n",
    "))((\n",
    "\n",
    "Sample Output 2: \n",
    "\n",
    "false \n",
    "\n"
   ]
  },
  {
   "cell_type": "code",
   "execution_count": 34,
   "id": "91f0f9ec",
   "metadata": {},
   "outputs": [
    {
     "name": "stdout",
     "output_type": "stream",
     "text": [
      "(()())\n",
      "True\n"
     ]
    }
   ],
   "source": [
    "def parantheses_matching(input_str):\n",
    "    count=0\n",
    "\n",
    "    for char in input_str:\n",
    "        if char=='(':\n",
    "            count+=1\n",
    "\n",
    "        else:\n",
    "            if count>0:\n",
    "                count-=1\n",
    "\n",
    "            else:\n",
    "                return False\n",
    "\n",
    "    if count==0:\n",
    "        return True\n",
    "\n",
    "    return False\n",
    "\n",
    "if __name__ == '__main__':\n",
    "    input_string=input()\n",
    "    print(parantheses_matching(input_string))"
   ]
  },
  {
   "cell_type": "code",
   "execution_count": 55,
   "id": "9be65964",
   "metadata": {},
   "outputs": [],
   "source": [
    "#Using Stack\n",
    "\n",
    "class Stack:\n",
    "    \n",
    "    def __init__(self):\n",
    "        self.items=[]\n",
    "                \n",
    "    def push(self, item):\n",
    "        self.items.append(item)        \n",
    "        \n",
    "    def pop(self):\n",
    "        if self.isEmpty():\n",
    "            return -1\n",
    "        \n",
    "        return self.items.pop()\n",
    "    \n",
    "    def isEmpty(self):\n",
    "        return self.items==[]\n",
    "    \n",
    "    def peek(self):\n",
    "        return self.items[len(self.items)-1]\n",
    "    \n",
    "    def size(self):\n",
    "        return len(self.items)\n"
   ]
  },
  {
   "cell_type": "code",
   "execution_count": 56,
   "id": "d0014546",
   "metadata": {},
   "outputs": [],
   "source": [
    "string = \"(())\""
   ]
  },
  {
   "cell_type": "code",
   "execution_count": 65,
   "id": "3eee8f72",
   "metadata": {},
   "outputs": [],
   "source": [
    "def balanced_paranthesis(string):\n",
    "    s =Stack()\n",
    "    index = 0\n",
    "    \n",
    "    while (index < len(string)):\n",
    "        if string[index] == \"(\":\n",
    "            s.push(string[index])\n",
    "            print(\"Push\", s.items)\n",
    "        else:\n",
    "            if s.isEmpty():\n",
    "                return False\n",
    "            else:\n",
    "                s.pop()\n",
    "            print(\"Pop\",s.items)\n",
    "        index +=1\n",
    "        \n",
    "    if s.isEmpty():\n",
    "        return True\n",
    "    else:\n",
    "        return False\n",
    "        \n",
    "            "
   ]
  },
  {
   "cell_type": "code",
   "execution_count": 66,
   "id": "18840df6",
   "metadata": {},
   "outputs": [
    {
     "name": "stdout",
     "output_type": "stream",
     "text": [
      "Push ['(']\n",
      "Push ['(', '(']\n",
      "Pop ['(']\n",
      "Pop []\n"
     ]
    },
    {
     "data": {
      "text/plain": [
       "False"
      ]
     },
     "execution_count": 66,
     "metadata": {},
     "output_type": "execute_result"
    }
   ],
   "source": [
    "balanced_paranthesis(\"(()))\")"
   ]
  },
  {
   "cell_type": "code",
   "execution_count": 67,
   "id": "8850cbd5",
   "metadata": {},
   "outputs": [],
   "source": [
    "def balanced_paranthesis(string):\n",
    "  \n",
    "    s=Stack()\n",
    "    index=0\n",
    "    \n",
    "    while (index<len(string)):\n",
    "        if string[index]==')':\n",
    "            s.push(string[index])     \n",
    "        else:\n",
    "            if s.isEmpty():\n",
    "                break\n",
    "            else:\n",
    "                s.pop()\n",
    "        index+=1\n",
    "        \n",
    "\n",
    "    if s.isEmpty():\n",
    "        print(\"balanced\")\n",
    "    else:\n",
    "        print(\"unbalanced\")"
   ]
  },
  {
   "cell_type": "code",
   "execution_count": 68,
   "id": "ecbe3600",
   "metadata": {},
   "outputs": [
    {
     "name": "stdout",
     "output_type": "stream",
     "text": [
      "balanced\n"
     ]
    }
   ],
   "source": [
    "balanced_paranthesis(\"((()((()(()))(()())\")"
   ]
  }
 ],
 "metadata": {
  "kernelspec": {
   "display_name": "Python 3 (ipykernel)",
   "language": "python",
   "name": "python3"
  },
  "language_info": {
   "codemirror_mode": {
    "name": "ipython",
    "version": 3
   },
   "file_extension": ".py",
   "mimetype": "text/x-python",
   "name": "python",
   "nbconvert_exporter": "python",
   "pygments_lexer": "ipython3",
   "version": "3.11.5"
  }
 },
 "nbformat": 4,
 "nbformat_minor": 5
}
